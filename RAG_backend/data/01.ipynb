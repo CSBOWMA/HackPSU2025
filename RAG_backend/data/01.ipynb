{
 "cells": [
  {
   "cell_type": "markdown",
   "metadata": {},
   "source": [
    "# 01 - Introduction and Python Review\n",
    "\n",
    "This notebook will cover an introduction to the course materials and a brief python review\n",
    "\n",
    "## Materials for the course\n",
    "\n",
    "1. Install [Python](https://www.python.org/downloads/).  Be sure to add python to the path when installing.  You should be able to run `python --version` in a command line prompt when completed and have it print out the version of python.  The version I have is 3.12.3 and it will be the version we use for this class.\n",
    "\n",
    "2. Install [Visual Studio Code](https://code.visualstudio.com/download).  Open this notebook file and run all.  You need to select the correct kernel.  If you have multiple versions of python installed you will want to choose the correct version you just installed to run your notebook.\n",
    "\n",
    "3. Lots of course announcements and communications in the [Slack channel](https://dataanalytics-9i15755.slack.com/archives/C08715PGUJ1).  Be sure to check this regularly and keep notifications on.  Let me know if you do not have access.  I have made it a private channel this year. I would download the Slack desktop app, which makes it easier to stay logged into Slack\n",
    "\n",
    "    - Windows: [download](https://slack.com/downloads/windows)\n",
    "    - Mac: [download](https://slack.com/downloads/mac)\n",
    "\n",
    "4. [GitHub](https://github.com/) account.  Create an account and share your user name with me, if you do NOT have access to the [text](https://github.com/Clarkson-Applied-Data-Science).\n",
    "\n",
    "5. [Google Colab](https://colab.research.google.com/#).  This is an online resource to run Jupyter notebooks.  We will definitely want to use this when we get to neural networks.\n",
    "\n",
    "6. You need to have lockdown browser working on your computer, but we will have a practice quiz at the end of class."
   ]
  },
  {
   "cell_type": "markdown",
   "metadata": {},
   "source": [
    "# Know How To:\n",
    "\n",
    "- install a module\n",
    "- import a module\n",
    "- run a notebook\n",
    "- live share in vs code"
   ]
  },
  {
   "cell_type": "markdown",
   "metadata": {},
   "source": [
    "# Python Review\n",
    "\n",
    "## Data Types\n",
    "\n",
    "### Lists\n",
    "\n",
    "- Mutable\n",
    "- Concatenate with + and add elements with .append().  Can multiply list like `[1,2,3]*3` which would result in `[1,2,3,1,2,3,1,2,3]`\n",
    "- Lots of methods: `.insert()` (can be computationally expensive), `.pop()`, `.remove()`, `.extend()`, `.sort()` (can be used with a key)\n",
    "- Works with `in` operator to check if element is part of list\n",
    "- Can \"slice\" lists using [start:stop] which will give the values from the index start (inclusive) to stop (exclusive).  Can use negative slices as well."
   ]
  },
  {
   "cell_type": "markdown",
   "metadata": {},
   "source": [
    "Lists – create with square brackets or list()"
   ]
  },
  {
   "cell_type": "code",
   "execution_count": 345,
   "metadata": {},
   "outputs": [
    {
     "data": {
      "text/plain": [
       "[1, 2, 3, 4, 5]"
      ]
     },
     "execution_count": 345,
     "metadata": {},
     "output_type": "execute_result"
    }
   ],
   "source": [
    "# Create lists\n",
    "\n",
    "a = [1,2,3,4,5,6,7,8] # Most people use this\n",
    "\n",
    "# or\n",
    "\n",
    "a = list((1,2,3,4,5))\n",
    "\n",
    "a"
   ]
  },
  {
   "cell_type": "markdown",
   "metadata": {},
   "source": [
    "Lists are mutable, which means you can change them.  Assign elements with brackets, like so"
   ]
  },
  {
   "cell_type": "code",
   "execution_count": 346,
   "metadata": {},
   "outputs": [
    {
     "data": {
      "text/plain": [
       "[2, 2, 3, 4, 5]"
      ]
     },
     "execution_count": 346,
     "metadata": {},
     "output_type": "execute_result"
    }
   ],
   "source": [
    "a[0] = 2\n",
    "\n",
    "a"
   ]
  },
  {
   "cell_type": "markdown",
   "metadata": {},
   "source": [
    "Concatenate with + and add elements with .append().  Can multiply list like [1,2,3]*3 which would result in [1,2,3,1,2,3,1,2,3]"
   ]
  },
  {
   "cell_type": "code",
   "execution_count": 347,
   "metadata": {},
   "outputs": [
    {
     "data": {
      "text/plain": [
       "[1, 2, 3, 4, 5, 6]"
      ]
     },
     "execution_count": 347,
     "metadata": {},
     "output_type": "execute_result"
    }
   ],
   "source": [
    "b = [1,2,3] + [4,5,6]\n",
    "\n",
    "b"
   ]
  },
  {
   "cell_type": "markdown",
   "metadata": {},
   "source": [
    "Multiply like so..."
   ]
  },
  {
   "cell_type": "code",
   "execution_count": 348,
   "metadata": {},
   "outputs": [
    {
     "data": {
      "text/plain": [
       "[2, 2, 3, 4, 5, 2, 2, 3, 4, 5, 2, 2, 3, 4, 5]"
      ]
     },
     "execution_count": 348,
     "metadata": {},
     "output_type": "execute_result"
    }
   ],
   "source": [
    "a*3"
   ]
  },
  {
   "cell_type": "markdown",
   "metadata": {},
   "source": [
    "Lists are mutable, which means that you can change the original list.  Assigning the results of using .append on a list, will only assign None to that variable"
   ]
  },
  {
   "cell_type": "code",
   "execution_count": 349,
   "metadata": {},
   "outputs": [
    {
     "data": {
      "text/plain": [
       "[2, 2, 3, 4, 5, 7]"
      ]
     },
     "execution_count": 349,
     "metadata": {},
     "output_type": "execute_result"
    }
   ],
   "source": [
    "# .append modifies the list in place and doesn't need to be assigned to a separate variable\n",
    "b = a.append(7)\n",
    "\n",
    "b\n",
    "a"
   ]
  },
  {
   "cell_type": "markdown",
   "metadata": {},
   "source": [
    "Lots of methods: `.insert()` (can be computationally expensive), `.pop()`, `.remove()`, `.extend()`, `.sort()` (can be used with a key),"
   ]
  },
  {
   "cell_type": "code",
   "execution_count": 350,
   "metadata": {},
   "outputs": [
    {
     "data": {
      "text/plain": [
       "['test', 2, 2, 3, 4, 5, 7]"
      ]
     },
     "execution_count": 350,
     "metadata": {},
     "output_type": "execute_result"
    }
   ],
   "source": [
    "# .insert takes the index you want to insert at and the item you want to insert\n",
    "a.insert(0, 'test')\n",
    "a"
   ]
  },
  {
   "cell_type": "code",
   "execution_count": 351,
   "metadata": {},
   "outputs": [
    {
     "data": {
      "text/plain": [
       "'test'"
      ]
     },
     "execution_count": 351,
     "metadata": {},
     "output_type": "execute_result"
    }
   ],
   "source": [
    "# .pop removes the item at the given index and returns it\n",
    "a.pop(0)"
   ]
  },
  {
   "cell_type": "code",
   "execution_count": 352,
   "metadata": {},
   "outputs": [
    {
     "data": {
      "text/plain": [
       "[2, 3, 4, 5, 7]"
      ]
     },
     "execution_count": 352,
     "metadata": {},
     "output_type": "execute_result"
    }
   ],
   "source": [
    "# .remove removes the first instance of the item found.  If not found, it will throw an error\n",
    "a.remove(2)\n",
    "\n",
    "a"
   ]
  },
  {
   "cell_type": "code",
   "execution_count": 353,
   "metadata": {},
   "outputs": [
    {
     "data": {
      "text/plain": [
       "[2, 3, 4, 5, 7, 4, 5, 6]"
      ]
     },
     "execution_count": 353,
     "metadata": {},
     "output_type": "execute_result"
    }
   ],
   "source": [
    "# .extend will combine two lists.  Be careful that you don't confuse this with append which, when used\n",
    "# with a list, will create a list of lists\n",
    "a.extend([4,5,6])\n",
    "\n",
    "a"
   ]
  },
  {
   "cell_type": "code",
   "execution_count": 354,
   "metadata": {},
   "outputs": [
    {
     "data": {
      "text/plain": [
       "[2, 3, 4, 5, 7, 4, 5, 6, [4, 5, 6]]"
      ]
     },
     "execution_count": 354,
     "metadata": {},
     "output_type": "execute_result"
    }
   ],
   "source": [
    "# Be careful with appending a list, you will get a list of lists.  You probably want to use extend.\n",
    "\n",
    "a.append([4,5,6])\n",
    "\n",
    "a"
   ]
  },
  {
   "cell_type": "code",
   "execution_count": 355,
   "metadata": {},
   "outputs": [
    {
     "data": {
      "text/plain": [
       "['test', 'test2', 'test22', 'test33', 'test3333333']"
      ]
     },
     "execution_count": 355,
     "metadata": {},
     "output_type": "execute_result"
    }
   ],
   "source": [
    "c = ['test3333333','test', 'test2', 'test22', 'test33']\n",
    "\n",
    "c.sort(key=len)\n",
    "\n",
    "c"
   ]
  },
  {
   "cell_type": "markdown",
   "metadata": {},
   "source": [
    "Works with in operator to check if element is part of list"
   ]
  },
  {
   "cell_type": "code",
   "execution_count": 356,
   "metadata": {},
   "outputs": [
    {
     "data": {
      "text/plain": [
       "True"
      ]
     },
     "execution_count": 356,
     "metadata": {},
     "output_type": "execute_result"
    }
   ],
   "source": [
    "'test' in c"
   ]
  },
  {
   "cell_type": "code",
   "execution_count": 357,
   "metadata": {},
   "outputs": [
    {
     "data": {
      "text/plain": [
       "False"
      ]
     },
     "execution_count": 357,
     "metadata": {},
     "output_type": "execute_result"
    }
   ],
   "source": [
    "# Also use not\n",
    "'test' not in c"
   ]
  },
  {
   "cell_type": "markdown",
   "metadata": {},
   "source": [
    "Can “slice” lists using [start:stop] which will give the values from the index start (inclusive) to stop (exclusive)."
   ]
  },
  {
   "cell_type": "code",
   "execution_count": 358,
   "metadata": {},
   "outputs": [
    {
     "data": {
      "text/plain": [
       "['test2', 'test22']"
      ]
     },
     "execution_count": 358,
     "metadata": {},
     "output_type": "execute_result"
    }
   ],
   "source": [
    "c[1:3]"
   ]
  },
  {
   "cell_type": "markdown",
   "metadata": {},
   "source": [
    "Can use negative slices as well."
   ]
  },
  {
   "cell_type": "code",
   "execution_count": 359,
   "metadata": {},
   "outputs": [
    {
     "data": {
      "text/plain": [
       "['test22', 'test33']"
      ]
     },
     "execution_count": 359,
     "metadata": {},
     "output_type": "execute_result"
    }
   ],
   "source": [
    "c[-3:-1]"
   ]
  },
  {
   "cell_type": "markdown",
   "metadata": {},
   "source": [
    "### Tuple\n",
    "\n",
    "- Create with and without parentheses\n",
    "- Access elements like list\n",
    "- Immutable\n",
    "- Can concatenate like a list as well as multiply, but not use `.append()` (since it is immutable)\n",
    "- Can \"unpack\" a tuple into multiple variables\n"
   ]
  },
  {
   "cell_type": "markdown",
   "metadata": {},
   "source": [
    "Tuple – create with and without parentheses"
   ]
  },
  {
   "cell_type": "code",
   "execution_count": 360,
   "metadata": {},
   "outputs": [
    {
     "data": {
      "text/plain": [
       "(2, 3, 4, 5, 7, 4, 5, 6, [4, 5, 6])"
      ]
     },
     "execution_count": 360,
     "metadata": {},
     "output_type": "execute_result"
    }
   ],
   "source": [
    "d = (1,2)\n",
    "\n",
    "# or\n",
    "\n",
    "d = 1, 2\n",
    "\n",
    "# or \n",
    "\n",
    "d = tuple(a)\n",
    "\n",
    "d"
   ]
  },
  {
   "cell_type": "markdown",
   "metadata": {},
   "source": [
    "Access elements like list"
   ]
  },
  {
   "cell_type": "code",
   "execution_count": 361,
   "metadata": {},
   "outputs": [
    {
     "data": {
      "text/plain": [
       "2"
      ]
     },
     "execution_count": 361,
     "metadata": {},
     "output_type": "execute_result"
    }
   ],
   "source": [
    "d[0]"
   ]
  },
  {
   "cell_type": "markdown",
   "metadata": {},
   "source": [
    "Immutable: can't change the elements of a tuple"
   ]
  },
  {
   "cell_type": "code",
   "execution_count": 362,
   "metadata": {},
   "outputs": [
    {
     "name": "stdout",
     "output_type": "stream",
     "text": [
      "'tuple' object does not support item assignment\n"
     ]
    }
   ],
   "source": [
    "try:\n",
    "    d[0] = 3\n",
    "except Exception as e:\n",
    "    print(e)"
   ]
  },
  {
   "cell_type": "markdown",
   "metadata": {},
   "source": [
    "Can concatenate like a list as well as multiply, but not use `.append()` (since it is immutable)"
   ]
  },
  {
   "cell_type": "code",
   "execution_count": 363,
   "metadata": {},
   "outputs": [
    {
     "data": {
      "text/plain": [
       "(1, 2, 3, 4, 5, 6)"
      ]
     },
     "execution_count": 363,
     "metadata": {},
     "output_type": "execute_result"
    }
   ],
   "source": [
    "(1,2,3) + (4,5,6)"
   ]
  },
  {
   "cell_type": "markdown",
   "metadata": {},
   "source": [
    "Can multiply tuple like a list"
   ]
  },
  {
   "cell_type": "code",
   "execution_count": 364,
   "metadata": {},
   "outputs": [
    {
     "data": {
      "text/plain": [
       "(2,\n",
       " 3,\n",
       " 4,\n",
       " 5,\n",
       " 7,\n",
       " 4,\n",
       " 5,\n",
       " 6,\n",
       " [4, 5, 6],\n",
       " 2,\n",
       " 3,\n",
       " 4,\n",
       " 5,\n",
       " 7,\n",
       " 4,\n",
       " 5,\n",
       " 6,\n",
       " [4, 5, 6],\n",
       " 2,\n",
       " 3,\n",
       " 4,\n",
       " 5,\n",
       " 7,\n",
       " 4,\n",
       " 5,\n",
       " 6,\n",
       " [4, 5, 6])"
      ]
     },
     "execution_count": 364,
     "metadata": {},
     "output_type": "execute_result"
    }
   ],
   "source": [
    "d*3"
   ]
  },
  {
   "cell_type": "markdown",
   "metadata": {},
   "source": [
    "Can “unpack” a tuple into multiple variables"
   ]
  },
  {
   "cell_type": "code",
   "execution_count": 365,
   "metadata": {},
   "outputs": [
    {
     "name": "stdout",
     "output_type": "stream",
     "text": [
      "1\n",
      "2\n"
     ]
    }
   ],
   "source": [
    "e = (1,2)\n",
    "f,g = e\n",
    "print(f)\n",
    "print(g)"
   ]
  },
  {
   "cell_type": "markdown",
   "metadata": {},
   "source": [
    "### Dictionary\n",
    "\n",
    "- created with `dict()` or `{}` with key-value pairs separated by colon (:). E.g. `dict_  = {'a':1, 'b':2}`\n",
    "- Keys must be immutable (strings, integers, floats) or you will get a `TypeError: unhashable type` error.\n",
    "- Access elements using the key `dict_['a']`\n",
    "- Mutable\n",
    "- Can use `in` operator\n",
    "- Can use del to delete elements or `.pop()` (which returns the element)\n",
    "- Lots of methods including `.keys()`, `.values()`, `.items()`, `.update()`, `.get()`\n",
    "- Can construct them from list of tuples\n"
   ]
  },
  {
   "cell_type": "markdown",
   "metadata": {},
   "source": [
    "created with `dict()` or `{}` with key-value pairs separated by colon (:). E.g. `dict_  = {'a':1, 'b':2}"
   ]
  },
  {
   "cell_type": "code",
   "execution_count": 366,
   "metadata": {},
   "outputs": [
    {
     "data": {
      "text/plain": [
       "{'a': 1, 'b': 2, 'c': 3}"
      ]
     },
     "execution_count": 366,
     "metadata": {},
     "output_type": "execute_result"
    }
   ],
   "source": [
    "#keys should be immutable- string; tuple; float; int.cannot use list as dict key.\n",
    "dict_ = {'a': 1, 'b':2, 'c':3}\n",
    "dict_"
   ]
  },
  {
   "cell_type": "markdown",
   "metadata": {},
   "source": [
    "## **ASIDE**: Try-Except\n",
    "\n",
    "- May need to catch errors and handle them\n",
    "- Be careful not to write “bare” try-except statements\n",
    "- Can also use finally to run code regardless of whether or not the code failed.\n"
   ]
  },
  {
   "cell_type": "code",
   "execution_count": 367,
   "metadata": {},
   "outputs": [
    {
     "name": "stdout",
     "output_type": "stream",
     "text": [
      "unhashable type: 'list'\n"
     ]
    }
   ],
   "source": [
    "# dictionary keys should be immutable unlike lists.  Attempting to use a list as key, will result in an error\n",
    "# We catch the error here in a 'bare' try/except block\n",
    "try:\n",
    "    dict_[[1,2,3]] = 3\n",
    "except Exception as e:\n",
    "    print(e)"
   ]
  },
  {
   "cell_type": "code",
   "execution_count": 368,
   "metadata": {},
   "outputs": [
    {
     "name": "stdout",
     "output_type": "stream",
     "text": [
      "unhashable type: 'list'\n"
     ]
    }
   ],
   "source": [
    "# Here we specifically catch the type of error\n",
    "try:\n",
    "    dict_[[1,2,3]] = 3\n",
    "except TypeError as e:\n",
    "    print(e)"
   ]
  },
  {
   "cell_type": "code",
   "execution_count": 369,
   "metadata": {},
   "outputs": [
    {
     "name": "stdout",
     "output_type": "stream",
     "text": [
      "Traceback (most recent call last):\n",
      "  File \"C:\\Users\\mgilbert\\AppData\\Local\\Temp\\ipykernel_18156\\4182066417.py\", line 5, in <module>\n",
      "    dict_[[1,2,3]] = 3\n",
      "    ~~~~~^^^^^^^^^\n",
      "TypeError: unhashable type: 'list'\n",
      "\n"
     ]
    }
   ],
   "source": [
    "# Here we import traceback to print the full error\n",
    "import traceback\n",
    "\n",
    "try:\n",
    "    dict_[[1,2,3]] = 3\n",
    "except (TypeError):\n",
    "    print(traceback.format_exc())"
   ]
  },
  {
   "cell_type": "code",
   "execution_count": 370,
   "metadata": {},
   "outputs": [
    {
     "name": "stdout",
     "output_type": "stream",
     "text": [
      "Traceback (most recent call last):\n",
      "  File \"C:\\Users\\mgilbert\\AppData\\Local\\Temp\\ipykernel_18156\\2980935417.py\", line 5, in <module>\n",
      "    print(dict_['g'])\n",
      "          ~~~~~^^^^^\n",
      "KeyError: 'g'\n",
      "\n"
     ]
    }
   ],
   "source": [
    "# Here we catch multiple errors\n",
    "import traceback\n",
    "\n",
    "try:\n",
    "    print(dict_['g'])\n",
    "except (TypeError, KeyError):\n",
    "    print(traceback.format_exc())"
   ]
  },
  {
   "cell_type": "markdown",
   "metadata": {},
   "source": [
    "Access elements using the key dict_[‘a’]"
   ]
  },
  {
   "cell_type": "code",
   "execution_count": 371,
   "metadata": {},
   "outputs": [
    {
     "data": {
      "text/plain": [
       "1"
      ]
     },
     "execution_count": 371,
     "metadata": {},
     "output_type": "execute_result"
    }
   ],
   "source": [
    "dict_['a']"
   ]
  },
  {
   "cell_type": "markdown",
   "metadata": {},
   "source": [
    "Mutable"
   ]
  },
  {
   "cell_type": "code",
   "execution_count": 372,
   "metadata": {},
   "outputs": [
    {
     "data": {
      "text/plain": [
       "{'a': [1, 2, 3], 'b': 2, 'c': 3}"
      ]
     },
     "execution_count": 372,
     "metadata": {},
     "output_type": "execute_result"
    }
   ],
   "source": [
    "dict_['a'] = [1,2,3]\n",
    "\n",
    "dict_"
   ]
  },
  {
   "cell_type": "markdown",
   "metadata": {},
   "source": [
    "Can use in operator"
   ]
  },
  {
   "cell_type": "code",
   "execution_count": 373,
   "metadata": {},
   "outputs": [
    {
     "data": {
      "text/plain": [
       "True"
      ]
     },
     "execution_count": 373,
     "metadata": {},
     "output_type": "execute_result"
    }
   ],
   "source": [
    "'a' in dict_"
   ]
  },
  {
   "cell_type": "markdown",
   "metadata": {},
   "source": [
    "Can use del to delete elements or .pop() (which returns the element)"
   ]
  },
  {
   "cell_type": "code",
   "execution_count": 374,
   "metadata": {},
   "outputs": [
    {
     "data": {
      "text/plain": [
       "{'b': 2, 'c': 3}"
      ]
     },
     "execution_count": 374,
     "metadata": {},
     "output_type": "execute_result"
    }
   ],
   "source": [
    "del dict_['a']\n",
    "\n",
    "dict_"
   ]
  },
  {
   "cell_type": "code",
   "execution_count": 375,
   "metadata": {},
   "outputs": [
    {
     "data": {
      "text/plain": [
       "2"
      ]
     },
     "execution_count": 375,
     "metadata": {},
     "output_type": "execute_result"
    }
   ],
   "source": [
    "# .pop returns the value from that index in addition to . returns val of the key\n",
    "dict_.pop('b')"
   ]
  },
  {
   "cell_type": "code",
   "execution_count": 376,
   "metadata": {},
   "outputs": [
    {
     "data": {
      "text/plain": [
       "{'c': 3}"
      ]
     },
     "execution_count": 376,
     "metadata": {},
     "output_type": "execute_result"
    }
   ],
   "source": [
    "# Now our dictionary only has one element\n",
    "dict_"
   ]
  },
  {
   "cell_type": "code",
   "execution_count": 377,
   "metadata": {},
   "outputs": [
    {
     "data": {
      "text/plain": [
       "{'0': 0,\n",
       " '1': 1,\n",
       " '2': 2,\n",
       " '3': 3,\n",
       " '4': 4,\n",
       " '5': 5,\n",
       " '6': 6,\n",
       " '7': 7,\n",
       " '8': 8,\n",
       " '9': 9,\n",
       " '10': 10,\n",
       " '11': 11,\n",
       " '12': 12,\n",
       " '13': 13,\n",
       " '14': 14,\n",
       " '15': 15,\n",
       " '16': 16,\n",
       " '17': 17,\n",
       " '18': 18,\n",
       " '19': 19}"
      ]
     },
     "execution_count": 377,
     "metadata": {},
     "output_type": "execute_result"
    }
   ],
   "source": [
    "# Let's declare a new dictionary\n",
    "dict_2 = {str(i):i for i in range(20)}\n",
    "\n",
    "dict_2"
   ]
  },
  {
   "cell_type": "code",
   "execution_count": 378,
   "metadata": {},
   "outputs": [
    {
     "data": {
      "text/plain": [
       "dict_keys(['0', '1', '2', '3', '4', '5', '6', '7', '8', '9', '10', '11', '12', '13', '14', '15', '16', '17', '18', '19'])"
      ]
     },
     "execution_count": 378,
     "metadata": {},
     "output_type": "execute_result"
    }
   ],
   "source": [
    "# .keys() returns the keys\n",
    "dict_2.keys()"
   ]
  },
  {
   "cell_type": "code",
   "execution_count": 379,
   "metadata": {},
   "outputs": [
    {
     "data": {
      "text/plain": [
       "dict_values([0, 1, 2, 3, 4, 5, 6, 7, 8, 9, 10, 11, 12, 13, 14, 15, 16, 17, 18, 19])"
      ]
     },
     "execution_count": 379,
     "metadata": {},
     "output_type": "execute_result"
    }
   ],
   "source": [
    "# .values returns the values in the order they were put in.  Dictionaries are ordered as of Python 3.7\n",
    "dict_2.values()"
   ]
  },
  {
   "cell_type": "code",
   "execution_count": 380,
   "metadata": {},
   "outputs": [
    {
     "name": "stdout",
     "output_type": "stream",
     "text": [
      "key: 0, value: 0\n",
      "key: 1, value: 1\n",
      "key: 2, value: 2\n",
      "key: 3, value: 3\n",
      "key: 4, value: 4\n",
      "key: 5, value: 5\n",
      "key: 6, value: 6\n",
      "key: 7, value: 7\n",
      "key: 8, value: 8\n",
      "key: 9, value: 9\n",
      "key: 10, value: 10\n",
      "key: 11, value: 11\n",
      "key: 12, value: 12\n",
      "key: 13, value: 13\n",
      "key: 14, value: 14\n",
      "key: 15, value: 15\n",
      "key: 16, value: 16\n",
      "key: 17, value: 17\n",
      "key: 18, value: 18\n",
      "key: 19, value: 19\n"
     ]
    }
   ],
   "source": [
    "# .items() returns an iterable of tuples\n",
    "# we are return tuple\n",
    "for key, value in dict_2.items():\n",
    "    print(f'key: {key}, value: {value}')"
   ]
  },
  {
   "cell_type": "code",
   "execution_count": 381,
   "metadata": {},
   "outputs": [
    {
     "data": {
      "text/plain": [
       "{'10': 15,\n",
       " '11': 16,\n",
       " '12': 17,\n",
       " '13': 18,\n",
       " '14': 19,\n",
       " '15': 20,\n",
       " '16': 21,\n",
       " '17': 22,\n",
       " '18': 23,\n",
       " '19': 24,\n",
       " '20': 25,\n",
       " '21': 26,\n",
       " '22': 27,\n",
       " '23': 28,\n",
       " '24': 29,\n",
       " '25': 30,\n",
       " '26': 31,\n",
       " '27': 32,\n",
       " '28': 33,\n",
       " '29': 34}"
      ]
     },
     "execution_count": 381,
     "metadata": {},
     "output_type": "execute_result"
    }
   ],
   "source": [
    "dict_3 = {str(i+10): i+15 for i in range(20)}\n",
    "dict_3"
   ]
  },
  {
   "cell_type": "code",
   "execution_count": 382,
   "metadata": {},
   "outputs": [
    {
     "data": {
      "text/plain": [
       "{'0': 0,\n",
       " '1': 1,\n",
       " '2': 2,\n",
       " '3': 3,\n",
       " '4': 4,\n",
       " '5': 5,\n",
       " '6': 6,\n",
       " '7': 7,\n",
       " '8': 8,\n",
       " '9': 9,\n",
       " '10': 15,\n",
       " '11': 16,\n",
       " '12': 17,\n",
       " '13': 18,\n",
       " '14': 19,\n",
       " '15': 20,\n",
       " '16': 21,\n",
       " '17': 22,\n",
       " '18': 23,\n",
       " '19': 24,\n",
       " '20': 25,\n",
       " '21': 26,\n",
       " '22': 27,\n",
       " '23': 28,\n",
       " '24': 29,\n",
       " '25': 30,\n",
       " '26': 31,\n",
       " '27': 32,\n",
       " '28': 33,\n",
       " '29': 34}"
      ]
     },
     "execution_count": 382,
     "metadata": {},
     "output_type": "execute_result"
    }
   ],
   "source": [
    "# .update modifies dict_2 in place.  Since keys have to be unique, will overwrite the keys in the \n",
    "# left dictionary with the right dictionary for any that are the same\n",
    "dict_2.update(dict_3)\n",
    "\n",
    "dict_2"
   ]
  },
  {
   "cell_type": "markdown",
   "metadata": {},
   "source": [
    "Can construct them from list of tuples"
   ]
  },
  {
   "cell_type": "code",
   "execution_count": 383,
   "metadata": {},
   "outputs": [
    {
     "data": {
      "text/plain": [
       "{0: '0',\n",
       " 1: '1',\n",
       " 2: '2',\n",
       " 3: '3',\n",
       " 4: '4',\n",
       " 5: '5',\n",
       " 6: '6',\n",
       " 7: '7',\n",
       " 8: '8',\n",
       " 9: '9',\n",
       " 10: '10',\n",
       " 11: '11',\n",
       " 12: '12',\n",
       " 13: '13',\n",
       " 14: '14',\n",
       " 15: '15',\n",
       " 16: '16',\n",
       " 17: '17',\n",
       " 18: '18',\n",
       " 19: '19'}"
      ]
     },
     "execution_count": 383,
     "metadata": {},
     "output_type": "execute_result"
    }
   ],
   "source": [
    "list_1 = [str(i) for i in range(20)]\n",
    "list_2 = [i for i in range(20)]\n",
    "\n",
    "dict(zip(list_2, list_1))"
   ]
  },
  {
   "cell_type": "markdown",
   "metadata": {},
   "source": [
    "Just a note to be careful with zip().  If you zip two lists of unequal length, then the result will be the length of the shorter list"
   ]
  },
  {
   "cell_type": "code",
   "execution_count": 384,
   "metadata": {},
   "outputs": [
    {
     "data": {
      "text/plain": [
       "{0: '0', 1: '1', 2: '2', 3: '3', 4: '4'}"
      ]
     },
     "execution_count": 384,
     "metadata": {},
     "output_type": "execute_result"
    }
   ],
   "source": [
    "list_1 = [str(i) for i in range(20)]\n",
    "list_2 = [i for i in range(5)]\n",
    "\n",
    "dict(zip(list_2, list_1))"
   ]
  },
  {
   "cell_type": "markdown",
   "metadata": {},
   "source": [
    "## List/Dictionary/Set Comprehensions\n",
    "\n",
    "- Quick way to create a list\n",
    "- Can filter as well\n",
    "- Can use more than one list.  Should limit to 2.\n",
    "- Can create dictionary comprehensions and set comprehensions as well\n",
    "- Very \"pythonic\", so are not relevant in other programming languages\n"
   ]
  },
  {
   "cell_type": "code",
   "execution_count": 385,
   "metadata": {},
   "outputs": [
    {
     "data": {
      "text/plain": [
       "[1, 2, 3, 4, 5, 6, 7, 8]"
      ]
     },
     "execution_count": 385,
     "metadata": {},
     "output_type": "execute_result"
    }
   ],
   "source": [
    "# We've already seen list comprehensions above\n",
    "\n",
    "old_list = [1,2,3,4,5,6,7,8]\n",
    "\n",
    "# without list comprehension\n",
    "new_list = []\n",
    "\n",
    "for i in old_list:\n",
    "    new_list.append(i)\n",
    "\n",
    "# with list comprehension\n",
    "new_list = [i for i in old_list]\n",
    "\n",
    "new_list"
   ]
  },
  {
   "cell_type": "markdown",
   "metadata": {},
   "source": [
    "Can filter as well"
   ]
  },
  {
   "cell_type": "code",
   "execution_count": 386,
   "metadata": {},
   "outputs": [
    {
     "data": {
      "text/plain": [
       "[3, 4, 5, 6, 7, 8]"
      ]
     },
     "execution_count": 386,
     "metadata": {},
     "output_type": "execute_result"
    }
   ],
   "source": [
    "[i for i in old_list if i>2]"
   ]
  },
  {
   "cell_type": "markdown",
   "metadata": {},
   "source": [
    "Can use more than one list.  Should limit to 2.  Order of nested lists match the order of for loops, if you were to write it in the conventional way"
   ]
  },
  {
   "cell_type": "code",
   "execution_count": 387,
   "metadata": {},
   "outputs": [
    {
     "data": {
      "text/plain": [
       "[[1, 2, 3, 4, 5, 6, 7, 8],\n",
       " [1, 2, 3, 4, 5, 6, 7, 8],\n",
       " [1, 2, 3, 4, 5, 6, 7, 8],\n",
       " [1, 2, 3, 4, 5, 6, 7, 8],\n",
       " [1, 2, 3, 4, 5, 6, 7, 8],\n",
       " [1, 2, 3, 4, 5, 6, 7, 8],\n",
       " [1, 2, 3, 4, 5, 6, 7, 8],\n",
       " [1, 2, 3, 4, 5, 6, 7, 8]]"
      ]
     },
     "execution_count": 387,
     "metadata": {},
     "output_type": "execute_result"
    }
   ],
   "source": [
    "# Let's build a new list of lists\n",
    "list_of_lists = [old_list for i in range(len(old_list))]\n",
    "list_of_lists"
   ]
  },
  {
   "cell_type": "code",
   "execution_count": 388,
   "metadata": {},
   "outputs": [
    {
     "data": {
      "text/plain": [
       "[1,\n",
       " 2,\n",
       " 3,\n",
       " 4,\n",
       " 5,\n",
       " 6,\n",
       " 7,\n",
       " 8,\n",
       " 1,\n",
       " 2,\n",
       " 3,\n",
       " 4,\n",
       " 5,\n",
       " 6,\n",
       " 7,\n",
       " 8,\n",
       " 1,\n",
       " 2,\n",
       " 3,\n",
       " 4,\n",
       " 5,\n",
       " 6,\n",
       " 7,\n",
       " 8,\n",
       " 1,\n",
       " 2,\n",
       " 3,\n",
       " 4,\n",
       " 5,\n",
       " 6,\n",
       " 7,\n",
       " 8,\n",
       " 1,\n",
       " 2,\n",
       " 3,\n",
       " 4,\n",
       " 5,\n",
       " 6,\n",
       " 7,\n",
       " 8,\n",
       " 1,\n",
       " 2,\n",
       " 3,\n",
       " 4,\n",
       " 5,\n",
       " 6,\n",
       " 7,\n",
       " 8,\n",
       " 1,\n",
       " 2,\n",
       " 3,\n",
       " 4,\n",
       " 5,\n",
       " 6,\n",
       " 7,\n",
       " 8,\n",
       " 1,\n",
       " 2,\n",
       " 3,\n",
       " 4,\n",
       " 5,\n",
       " 6,\n",
       " 7,\n",
       " 8]"
      ]
     },
     "execution_count": 388,
     "metadata": {},
     "output_type": "execute_result"
    }
   ],
   "source": [
    "# Let's unravel this using a list comprehension with two for loops\n",
    "#                   loop 1 vvvv              loop 2 vvvv\n",
    "new_list = [element for row in list_of_lists for element in row]\n",
    "new_list"
   ]
  },
  {
   "cell_type": "code",
   "execution_count": 389,
   "metadata": {},
   "outputs": [
    {
     "data": {
      "text/plain": [
       "[1,\n",
       " 2,\n",
       " 3,\n",
       " 4,\n",
       " 5,\n",
       " 6,\n",
       " 7,\n",
       " 8,\n",
       " 1,\n",
       " 2,\n",
       " 3,\n",
       " 4,\n",
       " 5,\n",
       " 6,\n",
       " 7,\n",
       " 8,\n",
       " 1,\n",
       " 2,\n",
       " 3,\n",
       " 4,\n",
       " 5,\n",
       " 6,\n",
       " 7,\n",
       " 8,\n",
       " 1,\n",
       " 2,\n",
       " 3,\n",
       " 4,\n",
       " 5,\n",
       " 6,\n",
       " 7,\n",
       " 8,\n",
       " 1,\n",
       " 2,\n",
       " 3,\n",
       " 4,\n",
       " 5,\n",
       " 6,\n",
       " 7,\n",
       " 8,\n",
       " 1,\n",
       " 2,\n",
       " 3,\n",
       " 4,\n",
       " 5,\n",
       " 6,\n",
       " 7,\n",
       " 8,\n",
       " 1,\n",
       " 2,\n",
       " 3,\n",
       " 4,\n",
       " 5,\n",
       " 6,\n",
       " 7,\n",
       " 8,\n",
       " 1,\n",
       " 2,\n",
       " 3,\n",
       " 4,\n",
       " 5,\n",
       " 6,\n",
       " 7,\n",
       " 8]"
      ]
     },
     "execution_count": 389,
     "metadata": {},
     "output_type": "execute_result"
    }
   ],
   "source": [
    "# This is the same as the below.  Notice the order of the loops follows the order above in the list comprehension\n",
    "new_list = []\n",
    "\n",
    "for row in list_of_lists: # loop 1\n",
    "    for element in row: # loop 2\n",
    "        new_list.append(element)\n",
    "\n",
    "new_list"
   ]
  },
  {
   "cell_type": "markdown",
   "metadata": {},
   "source": [
    "Can create dictionary comprehensions and set comprehensions as well"
   ]
  },
  {
   "cell_type": "code",
   "execution_count": 390,
   "metadata": {},
   "outputs": [
    {
     "data": {
      "text/plain": [
       "{'10': 15,\n",
       " '11': 16,\n",
       " '12': 17,\n",
       " '13': 18,\n",
       " '14': 19,\n",
       " '15': 20,\n",
       " '16': 21,\n",
       " '17': 22,\n",
       " '18': 23,\n",
       " '19': 24,\n",
       " '20': 25,\n",
       " '21': 26,\n",
       " '22': 27,\n",
       " '23': 28,\n",
       " '24': 29,\n",
       " '25': 30,\n",
       " '26': 31,\n",
       " '27': 32,\n",
       " '28': 33,\n",
       " '29': 34}"
      ]
     },
     "execution_count": 390,
     "metadata": {},
     "output_type": "execute_result"
    }
   ],
   "source": [
    "dict_3 = {str(i+10): i+15 for i in range(20)}\n",
    "dict_3"
   ]
  },
  {
   "cell_type": "markdown",
   "metadata": {},
   "source": [
    "## Functions\n",
    "\n",
    "- Functions are easy ways to write code and reuse it.\n",
    "- Can use positional and keyword arguments.  Keyword arguments must follow positional\n",
    "- Remember LEGB scope (https://realpython.com/python-scope-legb-rule/)\n",
    "    - Local: Scope in a code block or function.  Created at function call.\n",
    "    - Enclosing: only exists for nested functions.  The outer and inner functions have access to the variables in the enclosing scope which is all code in the inner and outer function\n",
    "    - Global: top-level scope\n",
    "    - Built-in: reserved words and other functions\n",
    "- Short, one-line functions are called lambda functions.  Very useful when combined with pandas’ .apply() method.\n"
   ]
  },
  {
   "cell_type": "markdown",
   "metadata": {},
   "source": [
    "Functions\n",
    "\n",
    "Functions are easy ways to write code and reuse it.  Declare them with reserved word `def` and have a return `statement` at the end"
   ]
  },
  {
   "cell_type": "code",
   "execution_count": 391,
   "metadata": {},
   "outputs": [
    {
     "data": {
      "text/plain": [
       "2"
      ]
     },
     "execution_count": 391,
     "metadata": {},
     "output_type": "execute_result"
    }
   ],
   "source": [
    "def test_function(a):\n",
    "    \n",
    "    return a+1\n",
    "\n",
    "test_function(1)"
   ]
  },
  {
   "cell_type": "markdown",
   "metadata": {},
   "source": [
    "Can use positional and keyword arguments.  Keyword arguments must follow positional"
   ]
  },
  {
   "cell_type": "code",
   "execution_count": 392,
   "metadata": {},
   "outputs": [
    {
     "data": {
      "text/plain": [
       "13"
      ]
     },
     "execution_count": 392,
     "metadata": {},
     "output_type": "execute_result"
    }
   ],
   "source": [
    "def test_function_2(a, # positional\n",
    "                    b, # positional\n",
    "                    c, # positional\n",
    "                    d=None, # keyword with default of None\n",
    "                    f=3):  # keyword with default of 3\n",
    "\n",
    "    if d:\n",
    "        return a+b+c+d+f\n",
    "    else:\n",
    "        return a+b+c+f\n",
    "\n",
    "# Don't have to name the keyword arguments, but if you don't they will be assumed\n",
    "test_function_2(1,2,3,4)"
   ]
  },
  {
   "cell_type": "code",
   "execution_count": 393,
   "metadata": {},
   "outputs": [
    {
     "data": {
      "text/plain": [
       "9"
      ]
     },
     "execution_count": 393,
     "metadata": {},
     "output_type": "execute_result"
    }
   ],
   "source": [
    "# Can skip all the keyword arguments and let them assume the defaults\n",
    "test_function_2(1,2,3)"
   ]
  },
  {
   "cell_type": "code",
   "execution_count": 394,
   "metadata": {},
   "outputs": [
    {
     "data": {
      "text/plain": [
       "13"
      ]
     },
     "execution_count": 394,
     "metadata": {},
     "output_type": "execute_result"
    }
   ],
   "source": [
    "# Can insert keyword arguments out of order\n",
    "test_function_2(1,2,3,f=2,d=5)"
   ]
  },
  {
   "cell_type": "code",
   "execution_count": 395,
   "metadata": {},
   "outputs": [],
   "source": [
    "# But can't submit keyword before positional\n",
    "# test_function_2(f=3,d=2,1,2,3)\n"
   ]
  },
  {
   "cell_type": "markdown",
   "metadata": {},
   "source": [
    "Remember LEGB scope (https://realpython.com/python-scope-legb-rule/)"
   ]
  },
  {
   "cell_type": "markdown",
   "metadata": {},
   "source": [
    "Local: Scope in a code block or function.  Created at function call"
   ]
  },
  {
   "cell_type": "code",
   "execution_count": 396,
   "metadata": {},
   "outputs": [
    {
     "name": "stdout",
     "output_type": "stream",
     "text": [
      "9\n"
     ]
    }
   ],
   "source": [
    "def test_function_3(a):\n",
    "\n",
    "    t = 3\n",
    "\n",
    "    return a+t\n",
    "\n",
    "test_function_3(1)\n",
    "try:\n",
    "    print(t)\n",
    "except NameError as e:\n",
    "    print(e)"
   ]
  },
  {
   "cell_type": "markdown",
   "metadata": {},
   "source": [
    "Enclosing: only exists for nested functions.  The outer and inner functions have access to the variables in the enclosing scope which is all code in the outer function"
   ]
  },
  {
   "cell_type": "code",
   "execution_count": 397,
   "metadata": {},
   "outputs": [
    {
     "name": "stdout",
     "output_type": "stream",
     "text": [
      "8\n"
     ]
    }
   ],
   "source": [
    "# Global x\n",
    "x = 2\n",
    "\n",
    "def test_func(num):\n",
    "    # enclosing scope\n",
    "    x = 3\n",
    "    def test_func_2(num_2):\n",
    "        # local scope\n",
    "        return num_2 + x\n",
    "    \n",
    "    return test_func_2(num+3)\n",
    "\n",
    "try:\n",
    "    print(test_func(2))\n",
    "except Exception as e:\n",
    "    print(e)"
   ]
  },
  {
   "cell_type": "markdown",
   "metadata": {},
   "source": [
    "Global: top-level scope"
   ]
  },
  {
   "cell_type": "markdown",
   "metadata": {},
   "source": [
    "Built-in: reserved words and other functions"
   ]
  },
  {
   "cell_type": "code",
   "execution_count": 398,
   "metadata": {},
   "outputs": [
    {
     "data": {
      "text/plain": [
       "['ArithmeticError',\n",
       " 'AssertionError',\n",
       " 'AttributeError',\n",
       " 'BaseException',\n",
       " 'BaseExceptionGroup',\n",
       " 'BlockingIOError',\n",
       " 'BrokenPipeError',\n",
       " 'BufferError',\n",
       " 'BytesWarning',\n",
       " 'ChildProcessError',\n",
       " 'ConnectionAbortedError',\n",
       " 'ConnectionError',\n",
       " 'ConnectionRefusedError',\n",
       " 'ConnectionResetError',\n",
       " 'DeprecationWarning',\n",
       " 'EOFError',\n",
       " 'Ellipsis',\n",
       " 'EncodingWarning',\n",
       " 'EnvironmentError',\n",
       " 'Exception',\n",
       " 'ExceptionGroup',\n",
       " 'False',\n",
       " 'FileExistsError',\n",
       " 'FileNotFoundError',\n",
       " 'FloatingPointError',\n",
       " 'FutureWarning',\n",
       " 'GeneratorExit',\n",
       " 'IOError',\n",
       " 'ImportError',\n",
       " 'ImportWarning',\n",
       " 'IndentationError',\n",
       " 'IndexError',\n",
       " 'InterruptedError',\n",
       " 'IsADirectoryError',\n",
       " 'KeyError',\n",
       " 'KeyboardInterrupt',\n",
       " 'LookupError',\n",
       " 'MemoryError',\n",
       " 'ModuleNotFoundError',\n",
       " 'NameError',\n",
       " 'None',\n",
       " 'NotADirectoryError',\n",
       " 'NotImplemented',\n",
       " 'NotImplementedError',\n",
       " 'OSError',\n",
       " 'OverflowError',\n",
       " 'PendingDeprecationWarning',\n",
       " 'PermissionError',\n",
       " 'ProcessLookupError',\n",
       " 'RecursionError',\n",
       " 'ReferenceError',\n",
       " 'ResourceWarning',\n",
       " 'RuntimeError',\n",
       " 'RuntimeWarning',\n",
       " 'StopAsyncIteration',\n",
       " 'StopIteration',\n",
       " 'SyntaxError',\n",
       " 'SyntaxWarning',\n",
       " 'SystemError',\n",
       " 'SystemExit',\n",
       " 'TabError',\n",
       " 'TimeoutError',\n",
       " 'True',\n",
       " 'TypeError',\n",
       " 'UnboundLocalError',\n",
       " 'UnicodeDecodeError',\n",
       " 'UnicodeEncodeError',\n",
       " 'UnicodeError',\n",
       " 'UnicodeTranslateError',\n",
       " 'UnicodeWarning',\n",
       " 'UserWarning',\n",
       " 'ValueError',\n",
       " 'Warning',\n",
       " 'WindowsError',\n",
       " 'ZeroDivisionError',\n",
       " '__IPYTHON__',\n",
       " '__build_class__',\n",
       " '__debug__',\n",
       " '__doc__',\n",
       " '__import__',\n",
       " '__loader__',\n",
       " '__name__',\n",
       " '__package__',\n",
       " '__spec__',\n",
       " 'abs',\n",
       " 'aiter',\n",
       " 'all',\n",
       " 'anext',\n",
       " 'any',\n",
       " 'ascii',\n",
       " 'bin',\n",
       " 'bool',\n",
       " 'breakpoint',\n",
       " 'bytearray',\n",
       " 'bytes',\n",
       " 'callable',\n",
       " 'chr',\n",
       " 'classmethod',\n",
       " 'compile',\n",
       " 'complex',\n",
       " 'copyright',\n",
       " 'credits',\n",
       " 'delattr',\n",
       " 'dict',\n",
       " 'dir',\n",
       " 'display',\n",
       " 'divmod',\n",
       " 'enumerate',\n",
       " 'eval',\n",
       " 'exec',\n",
       " 'execfile',\n",
       " 'filter',\n",
       " 'float',\n",
       " 'format',\n",
       " 'frozenset',\n",
       " 'get_ipython',\n",
       " 'getattr',\n",
       " 'globals',\n",
       " 'hasattr',\n",
       " 'hash',\n",
       " 'help',\n",
       " 'hex',\n",
       " 'id',\n",
       " 'input',\n",
       " 'int',\n",
       " 'isinstance',\n",
       " 'issubclass',\n",
       " 'iter',\n",
       " 'len',\n",
       " 'license',\n",
       " 'list',\n",
       " 'locals',\n",
       " 'map',\n",
       " 'max',\n",
       " 'memoryview',\n",
       " 'min',\n",
       " 'next',\n",
       " 'object',\n",
       " 'oct',\n",
       " 'open',\n",
       " 'ord',\n",
       " 'pow',\n",
       " 'print',\n",
       " 'property',\n",
       " 'range',\n",
       " 'repr',\n",
       " 'reversed',\n",
       " 'round',\n",
       " 'runfile',\n",
       " 'set',\n",
       " 'setattr',\n",
       " 'slice',\n",
       " 'sorted',\n",
       " 'staticmethod',\n",
       " 'str',\n",
       " 'sum',\n",
       " 'super',\n",
       " 'tuple',\n",
       " 'type',\n",
       " 'vars',\n",
       " 'zip']"
      ]
     },
     "execution_count": 398,
     "metadata": {},
     "output_type": "execute_result"
    }
   ],
   "source": [
    "dir(__builtins__)"
   ]
  },
  {
   "cell_type": "markdown",
   "metadata": {},
   "source": [
    "## Generators/Iterators\n",
    "\n",
    "- Iterators are anything that can be used with a for loop\n",
    "- Generators only return one value at a time from an iterator and so don’t read everything into memory like a list.\n",
    "- Use yield instead of return in your function to create a generator\n",
    "- Can also create generators like list comprehensions with parenthesis\n",
    "- Can get the next item with next(), but be careful, this will modify the generator and may exhaust it.\n"
   ]
  },
  {
   "cell_type": "markdown",
   "metadata": {},
   "source": [
    "Generators/Iterators\n",
    "\n",
    "Iterators are anything that can be used with a for loop"
   ]
  },
  {
   "cell_type": "code",
   "execution_count": 399,
   "metadata": {},
   "outputs": [
    {
     "name": "stdout",
     "output_type": "stream",
     "text": [
      "t\n",
      "e\n",
      "s\n",
      "t\n",
      "S\n",
      "t\n",
      "r\n",
      "i\n",
      "n\n",
      "g\n"
     ]
    }
   ],
   "source": [
    "for i in 'testString':\n",
    "    print(i)"
   ]
  },
  {
   "cell_type": "markdown",
   "metadata": {},
   "source": [
    "Generators only return one value at a time from an iterator and so don’t read everything into memory like a list.\n",
    "Use yield instead of return in your function to create a generator"
   ]
  },
  {
   "cell_type": "code",
   "execution_count": 400,
   "metadata": {},
   "outputs": [
    {
     "name": "stdout",
     "output_type": "stream",
     "text": [
      "<generator object generator at 0x0000024DA10C64D0>\n"
     ]
    }
   ],
   "source": [
    "def generator(i):\n",
    "\n",
    "    for x in range(i):\n",
    "        yield x\n",
    "\n",
    "test = generator(1000)\n",
    "print(test)"
   ]
  },
  {
   "cell_type": "code",
   "execution_count": 401,
   "metadata": {},
   "outputs": [
    {
     "name": "stdout",
     "output_type": "stream",
     "text": [
      "0\n",
      "1\n",
      "2\n",
      "3\n",
      "4\n",
      "5\n",
      "6\n",
      "7\n",
      "8\n",
      "9\n",
      "10\n",
      "11\n",
      "12\n",
      "13\n",
      "14\n",
      "15\n",
      "16\n",
      "17\n",
      "18\n",
      "19\n",
      "20\n",
      "21\n",
      "22\n",
      "23\n",
      "24\n",
      "25\n",
      "26\n",
      "27\n",
      "28\n",
      "29\n",
      "30\n",
      "31\n",
      "32\n",
      "33\n",
      "34\n",
      "35\n",
      "36\n",
      "37\n",
      "38\n",
      "39\n",
      "40\n",
      "41\n",
      "42\n",
      "43\n",
      "44\n",
      "45\n",
      "46\n",
      "47\n",
      "48\n",
      "49\n",
      "50\n",
      "51\n",
      "52\n",
      "53\n",
      "54\n",
      "55\n",
      "56\n",
      "57\n",
      "58\n",
      "59\n",
      "60\n",
      "61\n",
      "62\n",
      "63\n",
      "64\n",
      "65\n",
      "66\n",
      "67\n",
      "68\n",
      "69\n",
      "70\n",
      "71\n",
      "72\n",
      "73\n",
      "74\n",
      "75\n",
      "76\n",
      "77\n",
      "78\n",
      "79\n",
      "80\n",
      "81\n",
      "82\n",
      "83\n",
      "84\n",
      "85\n",
      "86\n",
      "87\n",
      "88\n",
      "89\n",
      "90\n",
      "91\n",
      "92\n",
      "93\n",
      "94\n",
      "95\n",
      "96\n",
      "97\n",
      "98\n",
      "99\n",
      "100\n",
      "101\n",
      "102\n",
      "103\n",
      "104\n",
      "105\n",
      "106\n",
      "107\n",
      "108\n",
      "109\n",
      "110\n",
      "111\n",
      "112\n",
      "113\n",
      "114\n",
      "115\n",
      "116\n",
      "117\n",
      "118\n",
      "119\n",
      "120\n",
      "121\n",
      "122\n",
      "123\n",
      "124\n",
      "125\n",
      "126\n",
      "127\n",
      "128\n",
      "129\n",
      "130\n",
      "131\n",
      "132\n",
      "133\n",
      "134\n",
      "135\n",
      "136\n",
      "137\n",
      "138\n",
      "139\n",
      "140\n",
      "141\n",
      "142\n",
      "143\n",
      "144\n",
      "145\n",
      "146\n",
      "147\n",
      "148\n",
      "149\n",
      "150\n",
      "151\n",
      "152\n",
      "153\n",
      "154\n",
      "155\n",
      "156\n",
      "157\n",
      "158\n",
      "159\n",
      "160\n",
      "161\n",
      "162\n",
      "163\n",
      "164\n",
      "165\n",
      "166\n",
      "167\n",
      "168\n",
      "169\n",
      "170\n",
      "171\n",
      "172\n",
      "173\n",
      "174\n",
      "175\n",
      "176\n",
      "177\n",
      "178\n",
      "179\n",
      "180\n",
      "181\n",
      "182\n",
      "183\n",
      "184\n",
      "185\n",
      "186\n",
      "187\n",
      "188\n",
      "189\n",
      "190\n",
      "191\n",
      "192\n",
      "193\n",
      "194\n",
      "195\n",
      "196\n",
      "197\n",
      "198\n",
      "199\n",
      "200\n",
      "201\n",
      "202\n",
      "203\n",
      "204\n",
      "205\n",
      "206\n",
      "207\n",
      "208\n",
      "209\n",
      "210\n",
      "211\n",
      "212\n",
      "213\n",
      "214\n",
      "215\n",
      "216\n",
      "217\n",
      "218\n",
      "219\n",
      "220\n",
      "221\n",
      "222\n",
      "223\n",
      "224\n",
      "225\n",
      "226\n",
      "227\n",
      "228\n",
      "229\n",
      "230\n",
      "231\n",
      "232\n",
      "233\n",
      "234\n",
      "235\n",
      "236\n",
      "237\n",
      "238\n",
      "239\n",
      "240\n",
      "241\n",
      "242\n",
      "243\n",
      "244\n",
      "245\n",
      "246\n",
      "247\n",
      "248\n",
      "249\n",
      "250\n",
      "251\n",
      "252\n",
      "253\n",
      "254\n",
      "255\n",
      "256\n",
      "257\n",
      "258\n",
      "259\n",
      "260\n",
      "261\n",
      "262\n",
      "263\n",
      "264\n",
      "265\n",
      "266\n",
      "267\n",
      "268\n",
      "269\n",
      "270\n",
      "271\n",
      "272\n",
      "273\n",
      "274\n",
      "275\n",
      "276\n",
      "277\n",
      "278\n",
      "279\n",
      "280\n",
      "281\n",
      "282\n",
      "283\n",
      "284\n",
      "285\n",
      "286\n",
      "287\n",
      "288\n",
      "289\n",
      "290\n",
      "291\n",
      "292\n",
      "293\n",
      "294\n",
      "295\n",
      "296\n",
      "297\n",
      "298\n",
      "299\n",
      "300\n",
      "301\n",
      "302\n",
      "303\n",
      "304\n",
      "305\n",
      "306\n",
      "307\n",
      "308\n",
      "309\n",
      "310\n",
      "311\n",
      "312\n",
      "313\n",
      "314\n",
      "315\n",
      "316\n",
      "317\n",
      "318\n",
      "319\n",
      "320\n",
      "321\n",
      "322\n",
      "323\n",
      "324\n",
      "325\n",
      "326\n",
      "327\n",
      "328\n",
      "329\n",
      "330\n",
      "331\n",
      "332\n",
      "333\n",
      "334\n",
      "335\n",
      "336\n",
      "337\n",
      "338\n",
      "339\n",
      "340\n",
      "341\n",
      "342\n",
      "343\n",
      "344\n",
      "345\n",
      "346\n",
      "347\n",
      "348\n",
      "349\n",
      "350\n",
      "351\n",
      "352\n",
      "353\n",
      "354\n",
      "355\n",
      "356\n",
      "357\n",
      "358\n",
      "359\n",
      "360\n",
      "361\n",
      "362\n",
      "363\n",
      "364\n",
      "365\n",
      "366\n",
      "367\n",
      "368\n",
      "369\n",
      "370\n",
      "371\n",
      "372\n",
      "373\n",
      "374\n",
      "375\n",
      "376\n",
      "377\n",
      "378\n",
      "379\n",
      "380\n",
      "381\n",
      "382\n",
      "383\n",
      "384\n",
      "385\n",
      "386\n",
      "387\n",
      "388\n",
      "389\n",
      "390\n",
      "391\n",
      "392\n",
      "393\n",
      "394\n",
      "395\n",
      "396\n",
      "397\n",
      "398\n",
      "399\n",
      "400\n",
      "401\n",
      "402\n",
      "403\n",
      "404\n",
      "405\n",
      "406\n",
      "407\n",
      "408\n",
      "409\n",
      "410\n",
      "411\n",
      "412\n",
      "413\n",
      "414\n",
      "415\n",
      "416\n",
      "417\n",
      "418\n",
      "419\n",
      "420\n",
      "421\n",
      "422\n",
      "423\n",
      "424\n",
      "425\n",
      "426\n",
      "427\n",
      "428\n",
      "429\n",
      "430\n",
      "431\n",
      "432\n",
      "433\n",
      "434\n",
      "435\n",
      "436\n",
      "437\n",
      "438\n",
      "439\n",
      "440\n",
      "441\n",
      "442\n",
      "443\n",
      "444\n",
      "445\n",
      "446\n",
      "447\n",
      "448\n",
      "449\n",
      "450\n",
      "451\n",
      "452\n",
      "453\n",
      "454\n",
      "455\n",
      "456\n",
      "457\n",
      "458\n",
      "459\n",
      "460\n",
      "461\n",
      "462\n",
      "463\n",
      "464\n",
      "465\n",
      "466\n",
      "467\n",
      "468\n",
      "469\n",
      "470\n",
      "471\n",
      "472\n",
      "473\n",
      "474\n",
      "475\n",
      "476\n",
      "477\n",
      "478\n",
      "479\n",
      "480\n",
      "481\n",
      "482\n",
      "483\n",
      "484\n",
      "485\n",
      "486\n",
      "487\n",
      "488\n",
      "489\n",
      "490\n",
      "491\n",
      "492\n",
      "493\n",
      "494\n",
      "495\n",
      "496\n",
      "497\n",
      "498\n",
      "499\n",
      "500\n",
      "501\n",
      "502\n",
      "503\n",
      "504\n",
      "505\n",
      "506\n",
      "507\n",
      "508\n",
      "509\n",
      "510\n",
      "511\n",
      "512\n",
      "513\n",
      "514\n",
      "515\n",
      "516\n",
      "517\n",
      "518\n",
      "519\n",
      "520\n",
      "521\n",
      "522\n",
      "523\n",
      "524\n",
      "525\n",
      "526\n",
      "527\n",
      "528\n",
      "529\n",
      "530\n",
      "531\n",
      "532\n",
      "533\n",
      "534\n",
      "535\n",
      "536\n",
      "537\n",
      "538\n",
      "539\n",
      "540\n",
      "541\n",
      "542\n",
      "543\n",
      "544\n",
      "545\n",
      "546\n",
      "547\n",
      "548\n",
      "549\n",
      "550\n",
      "551\n",
      "552\n",
      "553\n",
      "554\n",
      "555\n",
      "556\n",
      "557\n",
      "558\n",
      "559\n",
      "560\n",
      "561\n",
      "562\n",
      "563\n",
      "564\n",
      "565\n",
      "566\n",
      "567\n",
      "568\n",
      "569\n",
      "570\n",
      "571\n",
      "572\n",
      "573\n",
      "574\n",
      "575\n",
      "576\n",
      "577\n",
      "578\n",
      "579\n",
      "580\n",
      "581\n",
      "582\n",
      "583\n",
      "584\n",
      "585\n",
      "586\n",
      "587\n",
      "588\n",
      "589\n",
      "590\n",
      "591\n",
      "592\n",
      "593\n",
      "594\n",
      "595\n",
      "596\n",
      "597\n",
      "598\n",
      "599\n",
      "600\n",
      "601\n",
      "602\n",
      "603\n",
      "604\n",
      "605\n",
      "606\n",
      "607\n",
      "608\n",
      "609\n",
      "610\n",
      "611\n",
      "612\n",
      "613\n",
      "614\n",
      "615\n",
      "616\n",
      "617\n",
      "618\n",
      "619\n",
      "620\n",
      "621\n",
      "622\n",
      "623\n",
      "624\n",
      "625\n",
      "626\n",
      "627\n",
      "628\n",
      "629\n",
      "630\n",
      "631\n",
      "632\n",
      "633\n",
      "634\n",
      "635\n",
      "636\n",
      "637\n",
      "638\n",
      "639\n",
      "640\n",
      "641\n",
      "642\n",
      "643\n",
      "644\n",
      "645\n",
      "646\n",
      "647\n",
      "648\n",
      "649\n",
      "650\n",
      "651\n",
      "652\n",
      "653\n",
      "654\n",
      "655\n",
      "656\n",
      "657\n",
      "658\n",
      "659\n",
      "660\n",
      "661\n",
      "662\n",
      "663\n",
      "664\n",
      "665\n",
      "666\n",
      "667\n",
      "668\n",
      "669\n",
      "670\n",
      "671\n",
      "672\n",
      "673\n",
      "674\n",
      "675\n",
      "676\n",
      "677\n",
      "678\n",
      "679\n",
      "680\n",
      "681\n",
      "682\n",
      "683\n",
      "684\n",
      "685\n",
      "686\n",
      "687\n",
      "688\n",
      "689\n",
      "690\n",
      "691\n",
      "692\n",
      "693\n",
      "694\n",
      "695\n",
      "696\n",
      "697\n",
      "698\n",
      "699\n",
      "700\n",
      "701\n",
      "702\n",
      "703\n",
      "704\n",
      "705\n",
      "706\n",
      "707\n",
      "708\n",
      "709\n",
      "710\n",
      "711\n",
      "712\n",
      "713\n",
      "714\n",
      "715\n",
      "716\n",
      "717\n",
      "718\n",
      "719\n",
      "720\n",
      "721\n",
      "722\n",
      "723\n",
      "724\n",
      "725\n",
      "726\n",
      "727\n",
      "728\n",
      "729\n",
      "730\n",
      "731\n",
      "732\n",
      "733\n",
      "734\n",
      "735\n",
      "736\n",
      "737\n",
      "738\n",
      "739\n",
      "740\n",
      "741\n",
      "742\n",
      "743\n",
      "744\n",
      "745\n",
      "746\n",
      "747\n",
      "748\n",
      "749\n",
      "750\n",
      "751\n",
      "752\n",
      "753\n",
      "754\n",
      "755\n",
      "756\n",
      "757\n",
      "758\n",
      "759\n",
      "760\n",
      "761\n",
      "762\n",
      "763\n",
      "764\n",
      "765\n",
      "766\n",
      "767\n",
      "768\n",
      "769\n",
      "770\n",
      "771\n",
      "772\n",
      "773\n",
      "774\n",
      "775\n",
      "776\n",
      "777\n",
      "778\n",
      "779\n",
      "780\n",
      "781\n",
      "782\n",
      "783\n",
      "784\n",
      "785\n",
      "786\n",
      "787\n",
      "788\n",
      "789\n",
      "790\n",
      "791\n",
      "792\n",
      "793\n",
      "794\n",
      "795\n",
      "796\n",
      "797\n",
      "798\n",
      "799\n",
      "800\n",
      "801\n",
      "802\n",
      "803\n",
      "804\n",
      "805\n",
      "806\n",
      "807\n",
      "808\n",
      "809\n",
      "810\n",
      "811\n",
      "812\n",
      "813\n",
      "814\n",
      "815\n",
      "816\n",
      "817\n",
      "818\n",
      "819\n",
      "820\n",
      "821\n",
      "822\n",
      "823\n",
      "824\n",
      "825\n",
      "826\n",
      "827\n",
      "828\n",
      "829\n",
      "830\n",
      "831\n",
      "832\n",
      "833\n",
      "834\n",
      "835\n",
      "836\n",
      "837\n",
      "838\n",
      "839\n",
      "840\n",
      "841\n",
      "842\n",
      "843\n",
      "844\n",
      "845\n",
      "846\n",
      "847\n",
      "848\n",
      "849\n",
      "850\n",
      "851\n",
      "852\n",
      "853\n",
      "854\n",
      "855\n",
      "856\n",
      "857\n",
      "858\n",
      "859\n",
      "860\n",
      "861\n",
      "862\n",
      "863\n",
      "864\n",
      "865\n",
      "866\n",
      "867\n",
      "868\n",
      "869\n",
      "870\n",
      "871\n",
      "872\n",
      "873\n",
      "874\n",
      "875\n",
      "876\n",
      "877\n",
      "878\n",
      "879\n",
      "880\n",
      "881\n",
      "882\n",
      "883\n",
      "884\n",
      "885\n",
      "886\n",
      "887\n",
      "888\n",
      "889\n",
      "890\n",
      "891\n",
      "892\n",
      "893\n",
      "894\n",
      "895\n",
      "896\n",
      "897\n",
      "898\n",
      "899\n",
      "900\n",
      "901\n",
      "902\n",
      "903\n",
      "904\n",
      "905\n",
      "906\n",
      "907\n",
      "908\n",
      "909\n",
      "910\n",
      "911\n",
      "912\n",
      "913\n",
      "914\n",
      "915\n",
      "916\n",
      "917\n",
      "918\n",
      "919\n",
      "920\n",
      "921\n",
      "922\n",
      "923\n",
      "924\n",
      "925\n",
      "926\n",
      "927\n",
      "928\n",
      "929\n",
      "930\n",
      "931\n",
      "932\n",
      "933\n",
      "934\n",
      "935\n",
      "936\n",
      "937\n",
      "938\n",
      "939\n",
      "940\n",
      "941\n",
      "942\n",
      "943\n",
      "944\n",
      "945\n",
      "946\n",
      "947\n",
      "948\n",
      "949\n",
      "950\n",
      "951\n",
      "952\n",
      "953\n",
      "954\n",
      "955\n",
      "956\n",
      "957\n",
      "958\n",
      "959\n",
      "960\n",
      "961\n",
      "962\n",
      "963\n",
      "964\n",
      "965\n",
      "966\n",
      "967\n",
      "968\n",
      "969\n",
      "970\n",
      "971\n",
      "972\n",
      "973\n",
      "974\n",
      "975\n",
      "976\n",
      "977\n",
      "978\n",
      "979\n",
      "980\n",
      "981\n",
      "982\n",
      "983\n",
      "984\n",
      "985\n",
      "986\n",
      "987\n",
      "988\n",
      "989\n",
      "990\n",
      "991\n",
      "992\n",
      "993\n",
      "994\n",
      "995\n",
      "996\n",
      "997\n",
      "998\n",
      "999\n"
     ]
    }
   ],
   "source": [
    "for t in test:\n",
    "    print(t)"
   ]
  },
  {
   "cell_type": "markdown",
   "metadata": {},
   "source": [
    "Can also create generators like list comprehensions with parenthesis"
   ]
  },
  {
   "cell_type": "code",
   "execution_count": 402,
   "metadata": {},
   "outputs": [
    {
     "name": "stdout",
     "output_type": "stream",
     "text": [
      "<generator object <genexpr> at 0x0000024DBF4FBAC0>\n"
     ]
    }
   ],
   "source": [
    "test2 = (i for i in range(10))\n",
    "print(test2)"
   ]
  },
  {
   "cell_type": "markdown",
   "metadata": {},
   "source": [
    "Can get the next item with next(), but be careful, this will modify the generator and may exhaust it."
   ]
  },
  {
   "cell_type": "code",
   "execution_count": 403,
   "metadata": {},
   "outputs": [
    {
     "data": {
      "text/plain": [
       "0"
      ]
     },
     "execution_count": 403,
     "metadata": {},
     "output_type": "execute_result"
    }
   ],
   "source": [
    "next(test2)"
   ]
  },
  {
   "cell_type": "code",
   "execution_count": 404,
   "metadata": {},
   "outputs": [
    {
     "name": "stdout",
     "output_type": "stream",
     "text": [
      "1\n",
      "2\n",
      "3\n",
      "4\n",
      "5\n",
      "6\n",
      "7\n",
      "8\n",
      "9\n"
     ]
    }
   ],
   "source": [
    "# Your loop will start after the last element that was popped off with next\n",
    "for t in test2:\n",
    "    print(t)"
   ]
  },
  {
   "cell_type": "markdown",
   "metadata": {},
   "source": [
    "## Path Operations\n",
    "\n",
    "- For paths, can use built in .open() and .write() to work with files, but pathlib and os (which are Python standard libraries) have many useful functions\n"
   ]
  },
  {
   "cell_type": "code",
   "execution_count": 405,
   "metadata": {},
   "outputs": [
    {
     "name": "stdout",
     "output_type": "stream",
     "text": [
      "[{\"MAC\": \"77:3c:f9:3a:4f:5c\", \"AuthMode\": \"Misc\", \"FirstSeen\": \"2023-01-09 16:10:10\", \"Channel\": 0, \"RSSI\": -98, \"CurrentLatitude\": 44.675337321270014, \"CurrentLongitude\": -74.98461665527287, \"AltitudeMeters\": 104.92156982421876, \"AccuracyMeters\": 48.2400016784668, \"Type\": \"BLE\"}, {\"MAC\": \"71:96:ac:55:8c:10\", \"AuthMode\": \"Misc\", \"FirstSeen\": \"2023-01-09 16:10:10\", \"Channel\": 0, \"RSSI\": -76, \"CurrentLatitude\": 44.675337321270014, \"CurrentLongitude\": -74.98461665527287, \"AltitudeMeters\": 104.92156982421876, \"AccuracyMeters\": 48.2400016784668, \"Type\": \"BLE\"}, {\"MAC\": \"04:18:d6:6b:9a:ed\", \"SSID\": \"mrwifi\", \"AuthMode\": \"[WPA2-PSK-CCMP][ESS]\", \"FirstSeen\": \"2023-01-09 16:10:11\", \"Channel\": 1, \"RSSI\": -58, \"CurrentLatitude\": 44.6750277499854, \"CurrentLongitude\": -74.98467945503589, \"AltitudeMeters\": 128.16259765625, \"AccuracyMeters\": 32.15999984741211, \"Type\": \"WIFI\"}, {\"MAC\": \"cc:2d:21:7a:61:71\", \"SSID\": \"Bettez\", \"AuthMode\": \"[WPA-PSK-TKIP+CCMP][WPA2-PSK-TKIP+CCMP][ESS]\", \"FirstSeen\": \"2023-01-09 16:10:11\", \"Channel\": 6, \"RSSI\": -83, \"CurrentLatitude\": 44.6750277499854, \"CurrentLongitude\": -74.98467945503589, \"AltitudeMeters\": 128.16259765625, \"AccuracyMeters\": 32.15999984741211, \"Type\": \"WIFI\"}, {\"MAC\": \"cc:db:93:e8:3c:23\", \"SSID\": \"BusinessGuest\", \"AuthMode\": \"[WPA2-PSK-CCMP][ESS]\", \"FirstSeen\": \"2023-01-09 16:10:11\", \"Channel\": 1, \"RSSI\": -84, \"CurrentLatitude\": 44.6750277499854, \"CurrentLongitude\": -74.98467945503589, \"AltitudeMeters\": 128.16259765625, \"AccuracyMeters\": 32.15999984741211, \"Type\": \"WIFI\"}, {\"MAC\": \"cc:db:93:e8:3c:22\", \"AuthMode\": \"[WPA2-PSK-CCMP][ESS]\", \"FirstSeen\": \"2023-01-09 16:10:11\", \"Channel\": 1, \"RSSI\": -87, \"CurrentLatitude\": 44.6750277499854, \"CurrentLongitude\": -74.98467945503589, \"AltitudeMeters\": 128.16259765625, \"AccuracyMeters\": 32.15999984741211, \"Type\": \"WIFI\"}, {\"MAC\": \"310410_3332_205588530\", \"SSID\": \"AT&T Mobility\", \"AuthMode\": \"LTE;310410\", \"FirstSeen\": \"2023-01-09 16:10:11\", \"Channel\": 66986, \"RSSI\": -113, \"CurrentLatitude\": 44.6750277499854, \"CurrentLongitude\": -74.98467945503589, \"AltitudeMeters\": 128.16259765625, \"AccuracyMeters\": 32.15999984741211, \"Type\": \"LTE\"}, {\"MAC\": \"71:96:ac:55:8c:10\", \"AuthMode\": \"Misc\", \"FirstSeen\": \"2023-01-09 16:10:15\", \"Channel\": 0, \"RSSI\": -69, \"CurrentLatitude\": 44.67507563488462, \"CurrentLongitude\": -74.98469351689187, \"AltitudeMeters\": 116.31207275390624, \"AccuracyMeters\": 13.93600082397461, \"Type\": \"BLE\"}, {\"MAC\": \"0e:62:a6:6a:4e:d7\", \"AuthMode\": \"[WPA2-PSK-CCMP][ESS][WPS]\", \"FirstSeen\": \"2023-01-09 16:10:19\", \"Channel\": 36, \"RSSI\": -66, \"CurrentLatitude\": 44.675121970988855, \"CurrentLongitude\": -74.98470777332105, \"AltitudeMeters\": 109.83843994140624, \"AccuracyMeters\": 10.720000267028809, \"Type\": \"WIFI\"}, {\"MAC\": \"fa:8f:ca:3e:d9:28\", \"SSID\": \"Addition TV\", \"AuthMode\": \"[ESS]\", \"FirstSeen\": \"2023-01-09 16:10:19\", \"Channel\": 6, \"RSSI\": -73, \"CurrentLatitude\": 44.675121970988855, \"CurrentLongitude\": -74.98470777332105, \"AltitudeMeters\": 109.83843994140624, \"AccuracyMeters\": 10.720000267028809, \"Type\": \"WIFI\"}, {\"MAC\": \"94:a6:7e:e1:b0:c3\", \"SSID\": \"NETGEAR87\", \"AuthMode\": \"[WPA2-PSK-CCMP][ESS][WPS]\", \"FirstSeen\": \"2023-01-09 16:10:19\", \"Channel\": 11, \"RSSI\": -84, \"CurrentLatitude\": 44.675121970988855, \"CurrentLongitude\": -74.98470777332105, \"AltitudeMeters\": 109.83843994140624, \"AccuracyMeters\": 10.720000267028809, \"Type\": \"WIFI\"}, {\"MAC\": \"fa:6a:1f:99:f9:46\", \"SSID\": \"SpectrumSetup-45\", \"AuthMode\": \"[WPA2-PSK-CCMP][ESS]\", \"FirstSeen\": \"2023-01-09 16:10:24\", \"Channel\": 1, \"RSSI\": -82, \"CurrentLatitude\": 44.67513895389887, \"CurrentLongitude\": -74.98473039614048, \"AltitudeMeters\": 99.42156982421876, \"AccuracyMeters\": 9.648000717163086, \"Type\": \"WIFI\"}, {\"MAC\": \"38:f9:d3:83:52:6d\", \"SSID\": \"iMac\", \"AuthMode\": \"Desktop;10\", \"FirstSeen\": \"2023-01-09 16:11:09\", \"Channel\": 260, \"RSSI\": -94, \"CurrentLatitude\": 44.67515258097321, \"CurrentLongitude\": -74.98472951142007, \"AltitudeMeters\": 100.2882080078125, \"AccuracyMeters\": 19.29600143432617, \"Type\": \"BT\"}, {\"MAC\": \"4c:34:cd:6d:a8:6b\", \"AuthMode\": \"Uncategorized;10\", \"FirstSeen\": \"2023-01-09 16:11:12\", \"Channel\": 7936, \"RSSI\": -94, \"CurrentLatitude\": 44.67515289930455, \"CurrentLongitude\": -74.98473252497772, \"AltitudeMeters\": 100.296142578125, \"AccuracyMeters\": 19.29600143432617, \"Type\": \"BT\"}, {\"MAC\": \"77:3c:f9:3a:4f:5c\", \"AuthMode\": \"Misc\", \"FirstSeen\": \"2023-01-09 16:11:15\", \"Channel\": 0, \"RSSI\": -90, \"CurrentLatitude\": 44.67515307162898, \"CurrentLongitude\": -74.98473429662529, \"AltitudeMeters\": 100.0750732421875, \"AccuracyMeters\": 26.80000114440918, \"Type\": \"BLE\"}, {\"MAC\": \"3f:be:14:92:4e:10\", \"AuthMode\": \"Misc\", \"FirstSeen\": \"2023-01-09 16:11:25\", \"Channel\": 0, \"RSSI\": -95, \"CurrentLatitude\": 44.67515345692114, \"CurrentLongitude\": -74.98473753186376, \"AltitudeMeters\": 99.87738037109376, \"AccuracyMeters\": 25.72800064086914, \"Type\": \"BLE\"}, {\"MAC\": \"64:7a:c7:96:b1:aa\", \"AuthMode\": \"Uncategorized;10\", \"FirstSeen\": \"2023-01-09 16:11:54\", \"Channel\": 7936, \"RSSI\": -97, \"CurrentLatitude\": 44.67515444879541, \"CurrentLongitude\": -74.98474111801629, \"AltitudeMeters\": 99.8603515625, \"AccuracyMeters\": 15.008000373840332, \"Type\": \"BT\"}, {\"MAC\": \"cc:2d:21:7a:61:69\", \"SSID\": \"Bettez\", \"AuthMode\": \"[WPA-PSK-TKIP+CCMP][WPA2-PSK-TKIP+CCMP][ESS]\", \"FirstSeen\": \"2023-01-09 16:11:58\", \"Channel\": 6, \"RSSI\": -85, \"CurrentLatitude\": 44.67515445096019, \"CurrentLongitude\": -74.98474122185196, \"AltitudeMeters\": 99.7701416015625, \"AccuracyMeters\": 15.008000373840332, \"Type\": \"WIFI\"}, {\"MAC\": \"12:80:63:82:f5:3a\", \"AuthMode\": \"[WPA2-PSK-CCMP][ESS]\", \"FirstSeen\": \"2023-01-09 16:11:58\", \"Channel\": 3, \"RSSI\": -90, \"CurrentLatitude\": 44.67515445096019, \"CurrentLongitude\": -74.98474122185196, \"AltitudeMeters\": 99.7701416015625, \"AccuracyMeters\": 15.008000373840332, \"Type\": \"WIFI\"}, {\"MAC\": \"77:3c:f9:3a:4f:5c\", \"AuthMode\": \"Misc\", \"FirstSeen\": \"2023-01-09 16:12:20\", \"Channel\": 0, \"RSSI\": -85, \"CurrentLatitude\": 44.67515439916854, \"CurrentLongitude\": -74.98474181922899, \"AltitudeMeters\": 99.5863037109375, \"AccuracyMeters\": 23.583999633789062, \"Type\": \"BLE\"}, {\"MAC\": \"42:23:73:57:46:18\", \"AuthMode\": \"Misc\", \"FirstSeen\": \"2023-01-09 16:12:35\", \"Channel\": 0, \"RSSI\": -92, \"CurrentLatitude\": 44.6751540780292, \"CurrentLongitude\": -74.98474252597161, \"AltitudeMeters\": 99.47979736328124, \"AccuracyMeters\": 20.368000030517575, \"Type\": \"BLE\"}, {\"MAC\": \"78:1c:5a:25:e5:c8\", \"AuthMode\": \"Misc\", \"FirstSeen\": \"2023-01-09 16:12:35\", \"Channel\": 0, \"RSSI\": -73, \"CurrentLatitude\": 44.6751540780292, \"CurrentLongitude\": -74.98474252597161, \"AltitudeMeters\": 99.47979736328124, \"AccuracyMeters\": 20.368000030517575, \"Type\": \"BLE\"}, {\"MAC\": \"41:f6:4d:3a:95:d5\", \"AuthMode\": \"Misc\", \"FirstSeen\": \"2023-01-09 16:12:45\", \"Channel\": 0, \"RSSI\": -86, \"CurrentLatitude\": 44.67515396580103, \"CurrentLongitude\": -74.98474259727554, \"AltitudeMeters\": 99.5228271484375, \"AccuracyMeters\": 17.152000427246094, \"Type\": \"BLE\"}, {\"MAC\": \"fa:8f:ca:3e:d9:28\", \"SSID\": \"Addition TV\", \"AuthMode\": \"[ESS]\", \"FirstSeen\": \"2023-01-09 16:13:58\", \"Channel\": 6, \"RSSI\": -65, \"CurrentLatitude\": 44.67515274105737, \"CurrentLongitude\": -74.98474448422189, \"AltitudeMeters\": 99.0767822265625, \"AccuracyMeters\": 56.81600189208984, \"Type\": \"WIFI\"}, {\"MAC\": \"310410_3332_206949896\", \"SSID\": \"AT&T Mobility\", \"AuthMode\": \"LTE;us\", \"FirstSeen\": \"2023-01-09 16:13:58\", \"Channel\": 1000, \"RSSI\": -113, \"CurrentLatitude\": 44.67515274105737, \"CurrentLongitude\": -74.98474448422189, \"AltitudeMeters\": 99.0767822265625, \"AccuracyMeters\": 56.81600189208984, \"Type\": \"GSM\"}, {\"MAC\": \"5c:fa:25:dc:35:09\", \"SSID\": \"SpectrumSetup-03\", \"AuthMode\": \"[WPA2-PSK-CCMP][ESS]\", \"FirstSeen\": \"2023-01-09 16:14:58\", \"Channel\": 6, \"RSSI\": -79, \"CurrentLatitude\": 44.67514655900313, \"CurrentLongitude\": -74.98475558621809, \"AltitudeMeters\": 97.7606201171875, \"AccuracyMeters\": 37.52000045776367, \"Type\": \"WIFI\"}, {\"MAC\": \"04:18:d6:6b:9a:ed\", \"SSID\": \"mrwifi\", \"AuthMode\": \"[WPA2-PSK-CCMP][ESS]\", \"FirstSeen\": \"2023-01-09 17:30:11\", \"Channel\": 1, \"RSSI\": -54, \"CurrentLatitude\": 44.67524510522458, \"CurrentLongitude\": -74.98464804284939, \"AltitudeMeters\": 30.9425048828125, \"AccuracyMeters\": 10.720000267028809, \"Type\": \"WIFI\"}, {\"MAC\": \"1e:81:75:dd:77:cb\", \"SSID\": \"Spectrum Mobile\", \"AuthMode\": \"[WPA2-EAP-CCMP][ESS]\", \"FirstSeen\": \"2023-01-09 17:30:11\", \"Channel\": 157, \"RSSI\": -80, \"CurrentLatitude\": 44.67524510522458, \"CurrentLongitude\": -74.98464804284939, \"AltitudeMeters\": 30.9425048828125, \"AccuracyMeters\": 10.720000267028809, \"Type\": \"WIFI\"}, {\"MAC\": \"f0:81:75:dd:77:cf\", \"SSID\": \"SweetieX\", \"AuthMode\": \"[WPA2-PSK-CCMP][ESS]\", \"FirstSeen\": \"2023-01-09 17:30:11\", \"Channel\": 157, \"RSSI\": -80, \"CurrentLatitude\": 44.67524510522458, \"CurrentLongitude\": -74.98464804284939, \"AltitudeMeters\": 30.9425048828125, \"AccuracyMeters\": 10.720000267028809, \"Type\": \"WIFI\"}, {\"MAC\": \"60:38:e0:cf:bd:d1\", \"SSID\": \"Abraham Linksys\", \"AuthMode\": \"[WPA2-PSK-CCMP][ESS][WPS]\", \"FirstSeen\": \"2023-01-09 17:30:11\", \"Channel\": 6, \"RSSI\": -88, \"CurrentLatitude\": 44.67524510522458, \"CurrentLongitude\": -74.98464804284939, \"AltitudeMeters\": 30.9425048828125, \"AccuracyMeters\": 10.720000267028809, \"Type\": \"WIFI\"}, {\"MAC\": \"310410_3332_206856968\", \"SSID\": \"AT&T Mobility\", \"AuthMode\": \"LTE;310410\", \"FirstSeen\": \"2023-01-09 17:30:11\", \"Channel\": 1000, \"RSSI\": -113, \"CurrentLatitude\": 44.67524510522458, \"CurrentLongitude\": -74.98464804284939, \"AltitudeMeters\": 30.9425048828125, \"AccuracyMeters\": 10.720000267028809, \"Type\": \"GSM\"}, {\"MAC\": \"55:69:50:a9:21:5a\", \"AuthMode\": \"Misc\", \"FirstSeen\": \"2023-01-09 17:30:18\", \"Channel\": 0, \"RSSI\": -84, \"CurrentLatitude\": 44.67524013185777, \"CurrentLongitude\": -74.98477327707556, \"AltitudeMeters\": 37.5455322265625, \"AccuracyMeters\": 8.576000213623047, \"Type\": \"BLE\"}, {\"MAC\": \"73:83:59:f0:93:15\", \"AuthMode\": \"Misc\", \"FirstSeen\": \"2023-01-09 17:30:18\", \"Channel\": 0, \"RSSI\": -94, \"CurrentLatitude\": 44.67524013185777, \"CurrentLongitude\": -74.98477327707556, \"AltitudeMeters\": 37.5455322265625, \"AccuracyMeters\": 8.576000213623047, \"Type\": \"BLE\"}, {\"MAC\": \"1e:81:75:dd:77:cb\", \"SSID\": \"Spectrum Mobile\", \"AuthMode\": \"[WPA2-EAP-CCMP][ESS]\", \"FirstSeen\": \"2023-01-09 17:30:36\", \"Channel\": 157, \"RSSI\": -70, \"CurrentLatitude\": 44.67519300899817, \"CurrentLongitude\": -74.98484390449131, \"AltitudeMeters\": 51.16162109375, \"AccuracyMeters\": 6.432000160217285, \"Type\": \"WIFI\"}, {\"MAC\": \"f0:81:75:dd:77:cf\", \"SSID\": \"SweetieX\", \"AuthMode\": \"[WPA2-PSK-CCMP][ESS]\", \"FirstSeen\": \"2023-01-09 17:30:36\", \"Channel\": 157, \"RSSI\": -70, \"CurrentLatitude\": 44.67519300899817, \"CurrentLongitude\": -74.98484390449131, \"AltitudeMeters\": 51.16162109375, \"AccuracyMeters\": 6.432000160217285, \"Type\": \"WIFI\"}, {\"MAC\": \"a8:9a:93:99:b2:ee\", \"SSID\": \"MySpectrumWiFie8-2G\", \"AuthMode\": \"[WPA2-PSK-CCMP][ESS]\", \"FirstSeen\": \"2023-01-09 17:30:36\", \"Channel\": 1, \"RSSI\": -73, \"CurrentLatitude\": 44.67519300899817, \"CurrentLongitude\": -74.98484390449131, \"AltitudeMeters\": 51.16162109375, \"AccuracyMeters\": 6.432000160217285, \"Type\": \"WIFI\"}, {\"MAC\": \"0e:62:a6:6a:4e:d7\", \"AuthMode\": \"[WPA2-PSK-CCMP][ESS][WPS]\", \"FirstSeen\": \"2023-01-09 17:30:36\", \"Channel\": 36, \"RSSI\": -74, \"CurrentLatitude\": 44.67519300899817, \"CurrentLongitude\": -74.98484390449131, \"AltitudeMeters\": 51.16162109375, \"AccuracyMeters\": 6.432000160217285, \"Type\": \"WIFI\"}, {\"MAC\": \"f0:81:75:dd:77:ce\", \"SSID\": \"SweetieX\", \"AuthMode\": \"[WPA2-PSK-CCMP][ESS]\", \"FirstSeen\": \"2023-01-09 17:30:36\", \"Channel\": 1, \"RSSI\": -80, \"CurrentLatitude\": 44.67519300899817, \"CurrentLongitude\": -74.98484390449131, \"AltitudeMeters\": 51.16162109375, \"AccuracyMeters\": 6.432000160217285, \"Type\": \"WIFI\"}, {\"MAC\": \"94:a6:7e:e1:b0:c5\", \"SSID\": \"NETGEAR87-5G\", \"AuthMode\": \"[WPA2-PSK-CCMP][ESS][WPS]\", \"FirstSeen\": \"2023-01-09 17:30:36\", \"Channel\": 36, \"RSSI\": -83, \"CurrentLatitude\": 44.67519300899817, \"CurrentLongitude\": -74.98484390449131, \"AltitudeMeters\": 51.16162109375, \"AccuracyMeters\": 6.432000160217285, \"Type\": \"WIFI\"}, {\"MAC\": \"a4:97:33:2e:7d:a8\", \"SSID\": \"SpectrumSetup-A9\", \"AuthMode\": \"[WPA2-PSK-CCMP][ESS]\", \"FirstSeen\": \"2023-01-09 17:30:36\", \"Channel\": 157, \"RSSI\": -84, \"CurrentLatitude\": 44.67519300899817, \"CurrentLongitude\": -74.98484390449131, \"AltitudeMeters\": 51.16162109375, \"AccuracyMeters\": 6.432000160217285, \"Type\": \"WIFI\"}, {\"MAC\": \"86:97:33:2e:7d:a8\", \"SSID\": \"Spectrum Mobile\", \"AuthMode\": \"[WPA2-EAP-CCMP][ESS]\", \"FirstSeen\": \"2023-01-09 17:30:36\", \"Channel\": 157, \"RSSI\": -84, \"CurrentLatitude\": 44.67519300899817, \"CurrentLongitude\": -74.98484390449131, \"AltitudeMeters\": 51.16162109375, \"AccuracyMeters\": 6.432000160217285, \"Type\": \"WIFI\"}, {\"MAC\": \"24:4b:fe:c0:a6:fc\", \"SSID\": \"bcwifi\", \"AuthMode\": \"[WPA2-PSK-CCMP][ESS]\", \"FirstSeen\": \"2023-01-09 17:30:36\", \"Channel\": 149, \"RSSI\": -87, \"CurrentLatitude\": 44.67519300899817, \"CurrentLongitude\": -74.98484390449131, \"AltitudeMeters\": 51.16162109375, \"AccuracyMeters\": 6.432000160217285, \"Type\": \"WIFI\"}, {\"MAC\": \"8c:61:a3:fa:91:41\", \"SSID\": \"ARRIS-3129\", \"AuthMode\": \"[WPA2-PSK-CCMP][ESS][WPS]\", \"FirstSeen\": \"2023-01-09 17:30:36\", \"Channel\": 6, \"RSSI\": -89, \"CurrentLatitude\": 44.67519300899817, \"CurrentLongitude\": -74.98484390449131, \"AltitudeMeters\": 51.16162109375, \"AccuracyMeters\": 6.432000160217285, \"Type\": \"WIFI\"}, {\"MAC\": \"00:ac:e0:95:2f:45\", \"SSID\": \"DG1670A42-5G\", \"AuthMode\": \"[WPA2-PSK-CCMP][ESS][WPS]\", \"FirstSeen\": \"2023-01-09 17:30:36\", \"Channel\": 44, \"RSSI\": -90, \"CurrentLatitude\": 44.67519300899817, \"CurrentLongitude\": -74.98484390449131, \"AltitudeMeters\": 51.16162109375, \"AccuracyMeters\": 6.432000160217285, \"Type\": \"WIFI\"}, {\"MAC\": \"28:9e:fc:65:64:16\", \"SSID\": \"MySpectrumWiFi10-2G\", \"AuthMode\": \"[WPA2-PSK-CCMP][ESS]\", \"FirstSeen\": \"2023-01-09 17:30:36\", \"Channel\": 11, \"RSSI\": -92, \"CurrentLatitude\": 44.67519300899817, \"CurrentLongitude\": -74.98484390449131, \"AltitudeMeters\": 51.16162109375, \"AccuracyMeters\": 6.432000160217285, \"Type\": \"WIFI\"}, {\"MAC\": \"310410_3332_206856968\", \"SSID\": \"AT&T Mobility\", \"AuthMode\": \"LTE;310410\", \"FirstSeen\": \"2023-01-09 17:30:36\", \"Channel\": 1000, \"RSSI\": -107, \"CurrentLatitude\": 44.67519300899817, \"CurrentLongitude\": -74.98484390449131, \"AltitudeMeters\": 51.16162109375, \"AccuracyMeters\": 6.432000160217285, \"Type\": \"GSM\"}, {\"MAC\": \"fa:8f:ca:3e:d9:28\", \"SSID\": \"Addition TV\", \"AuthMode\": \"[ESS]\", \"FirstSeen\": \"2023-01-09 17:30:41\", \"Channel\": 6, \"RSSI\": -59, \"CurrentLatitude\": 44.67512629086133, \"CurrentLongitude\": -74.98485617807866, \"AltitudeMeters\": 62.480712890625, \"AccuracyMeters\": 4.288000106811523, \"Type\": \"WIFI\"}, {\"MAC\": \"e8:9f:80:fe:6a:87\", \"SSID\": \"Thanks Dirty\", \"AuthMode\": \"[WPA2-PSK-CCMP][ESS][WPS]\", \"FirstSeen\": \"2023-01-09 17:30:41\", \"Channel\": 5, \"RSSI\": -83, \"CurrentLatitude\": 44.67512629086133, \"CurrentLongitude\": -74.98485617807866, \"AltitudeMeters\": 62.480712890625, \"AccuracyMeters\": 4.288000106811523, \"Type\": \"WIFI\"}, {\"MAC\": \"74:e6:0f:a7:5d:21\", \"AuthMode\": \"Uncategorized;10\", \"FirstSeen\": \"2023-01-09 17:30:57\", \"Channel\": 7936, \"RSSI\": -91, \"CurrentLatitude\": 44.675069671608746, \"CurrentLongitude\": -74.98469846342036, \"AltitudeMeters\": 73.4766845703125, \"AccuracyMeters\": 4.288000106811523, \"Type\": \"BT\"}, {\"MAC\": \"7a:36:70:a8:80:da\", \"AuthMode\": \"Misc\", \"FirstSeen\": \"2023-01-09 17:31:03\", \"Channel\": 0, \"RSSI\": -97, \"CurrentLatitude\": 44.67514930346231, \"CurrentLongitude\": -74.98469895510951, \"AltitudeMeters\": 76.0965576171875, \"AccuracyMeters\": 4.288000106811523, \"Type\": \"BLE\"}]\n"
     ]
    }
   ],
   "source": [
    "# read file in with context block\n",
    "#with is content manager.\n",
    "with open('wifi_2023.json', 'r') as f:\n",
    "    file_contents = f.read()\n",
    "\n",
    "print(file_contents)"
   ]
  },
  {
   "cell_type": "code",
   "execution_count": 406,
   "metadata": {},
   "outputs": [
    {
     "name": "stdout",
     "output_type": "stream",
     "text": [
      "[{\"MAC\": \"77:3c:f9:3a:4f:5c\", \"AuthMode\": \"Misc\", \"FirstSeen\": \"2023-01-09 16:10:10\", \"Channel\": 0, \"RSSI\": -98, \"CurrentLatitude\": 44.675337321270014, \"CurrentLongitude\": -74.98461665527287, \"AltitudeMeters\": 104.92156982421876, \"AccuracyMeters\": 48.2400016784668, \"Type\": \"BLE\"}, {\"MAC\": \"71:96:ac:55:8c:10\", \"AuthMode\": \"Misc\", \"FirstSeen\": \"2023-01-09 16:10:10\", \"Channel\": 0, \"RSSI\": -76, \"CurrentLatitude\": 44.675337321270014, \"CurrentLongitude\": -74.98461665527287, \"AltitudeMeters\": 104.92156982421876, \"AccuracyMeters\": 48.2400016784668, \"Type\": \"BLE\"}, {\"MAC\": \"04:18:d6:6b:9a:ed\", \"SSID\": \"mrwifi\", \"AuthMode\": \"[WPA2-PSK-CCMP][ESS]\", \"FirstSeen\": \"2023-01-09 16:10:11\", \"Channel\": 1, \"RSSI\": -58, \"CurrentLatitude\": 44.6750277499854, \"CurrentLongitude\": -74.98467945503589, \"AltitudeMeters\": 128.16259765625, \"AccuracyMeters\": 32.15999984741211, \"Type\": \"WIFI\"}, {\"MAC\": \"cc:2d:21:7a:61:71\", \"SSID\": \"Bettez\", \"AuthMode\": \"[WPA-PSK-TKIP+CCMP][WPA2-PSK-TKIP+CCMP][ESS]\", \"FirstSeen\": \"2023-01-09 16:10:11\", \"Channel\": 6, \"RSSI\": -83, \"CurrentLatitude\": 44.6750277499854, \"CurrentLongitude\": -74.98467945503589, \"AltitudeMeters\": 128.16259765625, \"AccuracyMeters\": 32.15999984741211, \"Type\": \"WIFI\"}, {\"MAC\": \"cc:db:93:e8:3c:23\", \"SSID\": \"BusinessGuest\", \"AuthMode\": \"[WPA2-PSK-CCMP][ESS]\", \"FirstSeen\": \"2023-01-09 16:10:11\", \"Channel\": 1, \"RSSI\": -84, \"CurrentLatitude\": 44.6750277499854, \"CurrentLongitude\": -74.98467945503589, \"AltitudeMeters\": 128.16259765625, \"AccuracyMeters\": 32.15999984741211, \"Type\": \"WIFI\"}, {\"MAC\": \"cc:db:93:e8:3c:22\", \"AuthMode\": \"[WPA2-PSK-CCMP][ESS]\", \"FirstSeen\": \"2023-01-09 16:10:11\", \"Channel\": 1, \"RSSI\": -87, \"CurrentLatitude\": 44.6750277499854, \"CurrentLongitude\": -74.98467945503589, \"AltitudeMeters\": 128.16259765625, \"AccuracyMeters\": 32.15999984741211, \"Type\": \"WIFI\"}, {\"MAC\": \"310410_3332_205588530\", \"SSID\": \"AT&T Mobility\", \"AuthMode\": \"LTE;310410\", \"FirstSeen\": \"2023-01-09 16:10:11\", \"Channel\": 66986, \"RSSI\": -113, \"CurrentLatitude\": 44.6750277499854, \"CurrentLongitude\": -74.98467945503589, \"AltitudeMeters\": 128.16259765625, \"AccuracyMeters\": 32.15999984741211, \"Type\": \"LTE\"}, {\"MAC\": \"71:96:ac:55:8c:10\", \"AuthMode\": \"Misc\", \"FirstSeen\": \"2023-01-09 16:10:15\", \"Channel\": 0, \"RSSI\": -69, \"CurrentLatitude\": 44.67507563488462, \"CurrentLongitude\": -74.98469351689187, \"AltitudeMeters\": 116.31207275390624, \"AccuracyMeters\": 13.93600082397461, \"Type\": \"BLE\"}, {\"MAC\": \"0e:62:a6:6a:4e:d7\", \"AuthMode\": \"[WPA2-PSK-CCMP][ESS][WPS]\", \"FirstSeen\": \"2023-01-09 16:10:19\", \"Channel\": 36, \"RSSI\": -66, \"CurrentLatitude\": 44.675121970988855, \"CurrentLongitude\": -74.98470777332105, \"AltitudeMeters\": 109.83843994140624, \"AccuracyMeters\": 10.720000267028809, \"Type\": \"WIFI\"}, {\"MAC\": \"fa:8f:ca:3e:d9:28\", \"SSID\": \"Addition TV\", \"AuthMode\": \"[ESS]\", \"FirstSeen\": \"2023-01-09 16:10:19\", \"Channel\": 6, \"RSSI\": -73, \"CurrentLatitude\": 44.675121970988855, \"CurrentLongitude\": -74.98470777332105, \"AltitudeMeters\": 109.83843994140624, \"AccuracyMeters\": 10.720000267028809, \"Type\": \"WIFI\"}, {\"MAC\": \"94:a6:7e:e1:b0:c3\", \"SSID\": \"NETGEAR87\", \"AuthMode\": \"[WPA2-PSK-CCMP][ESS][WPS]\", \"FirstSeen\": \"2023-01-09 16:10:19\", \"Channel\": 11, \"RSSI\": -84, \"CurrentLatitude\": 44.675121970988855, \"CurrentLongitude\": -74.98470777332105, \"AltitudeMeters\": 109.83843994140624, \"AccuracyMeters\": 10.720000267028809, \"Type\": \"WIFI\"}, {\"MAC\": \"fa:6a:1f:99:f9:46\", \"SSID\": \"SpectrumSetup-45\", \"AuthMode\": \"[WPA2-PSK-CCMP][ESS]\", \"FirstSeen\": \"2023-01-09 16:10:24\", \"Channel\": 1, \"RSSI\": -82, \"CurrentLatitude\": 44.67513895389887, \"CurrentLongitude\": -74.98473039614048, \"AltitudeMeters\": 99.42156982421876, \"AccuracyMeters\": 9.648000717163086, \"Type\": \"WIFI\"}, {\"MAC\": \"38:f9:d3:83:52:6d\", \"SSID\": \"iMac\", \"AuthMode\": \"Desktop;10\", \"FirstSeen\": \"2023-01-09 16:11:09\", \"Channel\": 260, \"RSSI\": -94, \"CurrentLatitude\": 44.67515258097321, \"CurrentLongitude\": -74.98472951142007, \"AltitudeMeters\": 100.2882080078125, \"AccuracyMeters\": 19.29600143432617, \"Type\": \"BT\"}, {\"MAC\": \"4c:34:cd:6d:a8:6b\", \"AuthMode\": \"Uncategorized;10\", \"FirstSeen\": \"2023-01-09 16:11:12\", \"Channel\": 7936, \"RSSI\": -94, \"CurrentLatitude\": 44.67515289930455, \"CurrentLongitude\": -74.98473252497772, \"AltitudeMeters\": 100.296142578125, \"AccuracyMeters\": 19.29600143432617, \"Type\": \"BT\"}, {\"MAC\": \"77:3c:f9:3a:4f:5c\", \"AuthMode\": \"Misc\", \"FirstSeen\": \"2023-01-09 16:11:15\", \"Channel\": 0, \"RSSI\": -90, \"CurrentLatitude\": 44.67515307162898, \"CurrentLongitude\": -74.98473429662529, \"AltitudeMeters\": 100.0750732421875, \"AccuracyMeters\": 26.80000114440918, \"Type\": \"BLE\"}, {\"MAC\": \"3f:be:14:92:4e:10\", \"AuthMode\": \"Misc\", \"FirstSeen\": \"2023-01-09 16:11:25\", \"Channel\": 0, \"RSSI\": -95, \"CurrentLatitude\": 44.67515345692114, \"CurrentLongitude\": -74.98473753186376, \"AltitudeMeters\": 99.87738037109376, \"AccuracyMeters\": 25.72800064086914, \"Type\": \"BLE\"}, {\"MAC\": \"64:7a:c7:96:b1:aa\", \"AuthMode\": \"Uncategorized;10\", \"FirstSeen\": \"2023-01-09 16:11:54\", \"Channel\": 7936, \"RSSI\": -97, \"CurrentLatitude\": 44.67515444879541, \"CurrentLongitude\": -74.98474111801629, \"AltitudeMeters\": 99.8603515625, \"AccuracyMeters\": 15.008000373840332, \"Type\": \"BT\"}, {\"MAC\": \"cc:2d:21:7a:61:69\", \"SSID\": \"Bettez\", \"AuthMode\": \"[WPA-PSK-TKIP+CCMP][WPA2-PSK-TKIP+CCMP][ESS]\", \"FirstSeen\": \"2023-01-09 16:11:58\", \"Channel\": 6, \"RSSI\": -85, \"CurrentLatitude\": 44.67515445096019, \"CurrentLongitude\": -74.98474122185196, \"AltitudeMeters\": 99.7701416015625, \"AccuracyMeters\": 15.008000373840332, \"Type\": \"WIFI\"}, {\"MAC\": \"12:80:63:82:f5:3a\", \"AuthMode\": \"[WPA2-PSK-CCMP][ESS]\", \"FirstSeen\": \"2023-01-09 16:11:58\", \"Channel\": 3, \"RSSI\": -90, \"CurrentLatitude\": 44.67515445096019, \"CurrentLongitude\": -74.98474122185196, \"AltitudeMeters\": 99.7701416015625, \"AccuracyMeters\": 15.008000373840332, \"Type\": \"WIFI\"}, {\"MAC\": \"77:3c:f9:3a:4f:5c\", \"AuthMode\": \"Misc\", \"FirstSeen\": \"2023-01-09 16:12:20\", \"Channel\": 0, \"RSSI\": -85, \"CurrentLatitude\": 44.67515439916854, \"CurrentLongitude\": -74.98474181922899, \"AltitudeMeters\": 99.5863037109375, \"AccuracyMeters\": 23.583999633789062, \"Type\": \"BLE\"}, {\"MAC\": \"42:23:73:57:46:18\", \"AuthMode\": \"Misc\", \"FirstSeen\": \"2023-01-09 16:12:35\", \"Channel\": 0, \"RSSI\": -92, \"CurrentLatitude\": 44.6751540780292, \"CurrentLongitude\": -74.98474252597161, \"AltitudeMeters\": 99.47979736328124, \"AccuracyMeters\": 20.368000030517575, \"Type\": \"BLE\"}, {\"MAC\": \"78:1c:5a:25:e5:c8\", \"AuthMode\": \"Misc\", \"FirstSeen\": \"2023-01-09 16:12:35\", \"Channel\": 0, \"RSSI\": -73, \"CurrentLatitude\": 44.6751540780292, \"CurrentLongitude\": -74.98474252597161, \"AltitudeMeters\": 99.47979736328124, \"AccuracyMeters\": 20.368000030517575, \"Type\": \"BLE\"}, {\"MAC\": \"41:f6:4d:3a:95:d5\", \"AuthMode\": \"Misc\", \"FirstSeen\": \"2023-01-09 16:12:45\", \"Channel\": 0, \"RSSI\": -86, \"CurrentLatitude\": 44.67515396580103, \"CurrentLongitude\": -74.98474259727554, \"AltitudeMeters\": 99.5228271484375, \"AccuracyMeters\": 17.152000427246094, \"Type\": \"BLE\"}, {\"MAC\": \"fa:8f:ca:3e:d9:28\", \"SSID\": \"Addition TV\", \"AuthMode\": \"[ESS]\", \"FirstSeen\": \"2023-01-09 16:13:58\", \"Channel\": 6, \"RSSI\": -65, \"CurrentLatitude\": 44.67515274105737, \"CurrentLongitude\": -74.98474448422189, \"AltitudeMeters\": 99.0767822265625, \"AccuracyMeters\": 56.81600189208984, \"Type\": \"WIFI\"}, {\"MAC\": \"310410_3332_206949896\", \"SSID\": \"AT&T Mobility\", \"AuthMode\": \"LTE;us\", \"FirstSeen\": \"2023-01-09 16:13:58\", \"Channel\": 1000, \"RSSI\": -113, \"CurrentLatitude\": 44.67515274105737, \"CurrentLongitude\": -74.98474448422189, \"AltitudeMeters\": 99.0767822265625, \"AccuracyMeters\": 56.81600189208984, \"Type\": \"GSM\"}, {\"MAC\": \"5c:fa:25:dc:35:09\", \"SSID\": \"SpectrumSetup-03\", \"AuthMode\": \"[WPA2-PSK-CCMP][ESS]\", \"FirstSeen\": \"2023-01-09 16:14:58\", \"Channel\": 6, \"RSSI\": -79, \"CurrentLatitude\": 44.67514655900313, \"CurrentLongitude\": -74.98475558621809, \"AltitudeMeters\": 97.7606201171875, \"AccuracyMeters\": 37.52000045776367, \"Type\": \"WIFI\"}, {\"MAC\": \"04:18:d6:6b:9a:ed\", \"SSID\": \"mrwifi\", \"AuthMode\": \"[WPA2-PSK-CCMP][ESS]\", \"FirstSeen\": \"2023-01-09 17:30:11\", \"Channel\": 1, \"RSSI\": -54, \"CurrentLatitude\": 44.67524510522458, \"CurrentLongitude\": -74.98464804284939, \"AltitudeMeters\": 30.9425048828125, \"AccuracyMeters\": 10.720000267028809, \"Type\": \"WIFI\"}, {\"MAC\": \"1e:81:75:dd:77:cb\", \"SSID\": \"Spectrum Mobile\", \"AuthMode\": \"[WPA2-EAP-CCMP][ESS]\", \"FirstSeen\": \"2023-01-09 17:30:11\", \"Channel\": 157, \"RSSI\": -80, \"CurrentLatitude\": 44.67524510522458, \"CurrentLongitude\": -74.98464804284939, \"AltitudeMeters\": 30.9425048828125, \"AccuracyMeters\": 10.720000267028809, \"Type\": \"WIFI\"}, {\"MAC\": \"f0:81:75:dd:77:cf\", \"SSID\": \"SweetieX\", \"AuthMode\": \"[WPA2-PSK-CCMP][ESS]\", \"FirstSeen\": \"2023-01-09 17:30:11\", \"Channel\": 157, \"RSSI\": -80, \"CurrentLatitude\": 44.67524510522458, \"CurrentLongitude\": -74.98464804284939, \"AltitudeMeters\": 30.9425048828125, \"AccuracyMeters\": 10.720000267028809, \"Type\": \"WIFI\"}, {\"MAC\": \"60:38:e0:cf:bd:d1\", \"SSID\": \"Abraham Linksys\", \"AuthMode\": \"[WPA2-PSK-CCMP][ESS][WPS]\", \"FirstSeen\": \"2023-01-09 17:30:11\", \"Channel\": 6, \"RSSI\": -88, \"CurrentLatitude\": 44.67524510522458, \"CurrentLongitude\": -74.98464804284939, \"AltitudeMeters\": 30.9425048828125, \"AccuracyMeters\": 10.720000267028809, \"Type\": \"WIFI\"}, {\"MAC\": \"310410_3332_206856968\", \"SSID\": \"AT&T Mobility\", \"AuthMode\": \"LTE;310410\", \"FirstSeen\": \"2023-01-09 17:30:11\", \"Channel\": 1000, \"RSSI\": -113, \"CurrentLatitude\": 44.67524510522458, \"CurrentLongitude\": -74.98464804284939, \"AltitudeMeters\": 30.9425048828125, \"AccuracyMeters\": 10.720000267028809, \"Type\": \"GSM\"}, {\"MAC\": \"55:69:50:a9:21:5a\", \"AuthMode\": \"Misc\", \"FirstSeen\": \"2023-01-09 17:30:18\", \"Channel\": 0, \"RSSI\": -84, \"CurrentLatitude\": 44.67524013185777, \"CurrentLongitude\": -74.98477327707556, \"AltitudeMeters\": 37.5455322265625, \"AccuracyMeters\": 8.576000213623047, \"Type\": \"BLE\"}, {\"MAC\": \"73:83:59:f0:93:15\", \"AuthMode\": \"Misc\", \"FirstSeen\": \"2023-01-09 17:30:18\", \"Channel\": 0, \"RSSI\": -94, \"CurrentLatitude\": 44.67524013185777, \"CurrentLongitude\": -74.98477327707556, \"AltitudeMeters\": 37.5455322265625, \"AccuracyMeters\": 8.576000213623047, \"Type\": \"BLE\"}, {\"MAC\": \"1e:81:75:dd:77:cb\", \"SSID\": \"Spectrum Mobile\", \"AuthMode\": \"[WPA2-EAP-CCMP][ESS]\", \"FirstSeen\": \"2023-01-09 17:30:36\", \"Channel\": 157, \"RSSI\": -70, \"CurrentLatitude\": 44.67519300899817, \"CurrentLongitude\": -74.98484390449131, \"AltitudeMeters\": 51.16162109375, \"AccuracyMeters\": 6.432000160217285, \"Type\": \"WIFI\"}, {\"MAC\": \"f0:81:75:dd:77:cf\", \"SSID\": \"SweetieX\", \"AuthMode\": \"[WPA2-PSK-CCMP][ESS]\", \"FirstSeen\": \"2023-01-09 17:30:36\", \"Channel\": 157, \"RSSI\": -70, \"CurrentLatitude\": 44.67519300899817, \"CurrentLongitude\": -74.98484390449131, \"AltitudeMeters\": 51.16162109375, \"AccuracyMeters\": 6.432000160217285, \"Type\": \"WIFI\"}, {\"MAC\": \"a8:9a:93:99:b2:ee\", \"SSID\": \"MySpectrumWiFie8-2G\", \"AuthMode\": \"[WPA2-PSK-CCMP][ESS]\", \"FirstSeen\": \"2023-01-09 17:30:36\", \"Channel\": 1, \"RSSI\": -73, \"CurrentLatitude\": 44.67519300899817, \"CurrentLongitude\": -74.98484390449131, \"AltitudeMeters\": 51.16162109375, \"AccuracyMeters\": 6.432000160217285, \"Type\": \"WIFI\"}, {\"MAC\": \"0e:62:a6:6a:4e:d7\", \"AuthMode\": \"[WPA2-PSK-CCMP][ESS][WPS]\", \"FirstSeen\": \"2023-01-09 17:30:36\", \"Channel\": 36, \"RSSI\": -74, \"CurrentLatitude\": 44.67519300899817, \"CurrentLongitude\": -74.98484390449131, \"AltitudeMeters\": 51.16162109375, \"AccuracyMeters\": 6.432000160217285, \"Type\": \"WIFI\"}, {\"MAC\": \"f0:81:75:dd:77:ce\", \"SSID\": \"SweetieX\", \"AuthMode\": \"[WPA2-PSK-CCMP][ESS]\", \"FirstSeen\": \"2023-01-09 17:30:36\", \"Channel\": 1, \"RSSI\": -80, \"CurrentLatitude\": 44.67519300899817, \"CurrentLongitude\": -74.98484390449131, \"AltitudeMeters\": 51.16162109375, \"AccuracyMeters\": 6.432000160217285, \"Type\": \"WIFI\"}, {\"MAC\": \"94:a6:7e:e1:b0:c5\", \"SSID\": \"NETGEAR87-5G\", \"AuthMode\": \"[WPA2-PSK-CCMP][ESS][WPS]\", \"FirstSeen\": \"2023-01-09 17:30:36\", \"Channel\": 36, \"RSSI\": -83, \"CurrentLatitude\": 44.67519300899817, \"CurrentLongitude\": -74.98484390449131, \"AltitudeMeters\": 51.16162109375, \"AccuracyMeters\": 6.432000160217285, \"Type\": \"WIFI\"}, {\"MAC\": \"a4:97:33:2e:7d:a8\", \"SSID\": \"SpectrumSetup-A9\", \"AuthMode\": \"[WPA2-PSK-CCMP][ESS]\", \"FirstSeen\": \"2023-01-09 17:30:36\", \"Channel\": 157, \"RSSI\": -84, \"CurrentLatitude\": 44.67519300899817, \"CurrentLongitude\": -74.98484390449131, \"AltitudeMeters\": 51.16162109375, \"AccuracyMeters\": 6.432000160217285, \"Type\": \"WIFI\"}, {\"MAC\": \"86:97:33:2e:7d:a8\", \"SSID\": \"Spectrum Mobile\", \"AuthMode\": \"[WPA2-EAP-CCMP][ESS]\", \"FirstSeen\": \"2023-01-09 17:30:36\", \"Channel\": 157, \"RSSI\": -84, \"CurrentLatitude\": 44.67519300899817, \"CurrentLongitude\": -74.98484390449131, \"AltitudeMeters\": 51.16162109375, \"AccuracyMeters\": 6.432000160217285, \"Type\": \"WIFI\"}, {\"MAC\": \"24:4b:fe:c0:a6:fc\", \"SSID\": \"bcwifi\", \"AuthMode\": \"[WPA2-PSK-CCMP][ESS]\", \"FirstSeen\": \"2023-01-09 17:30:36\", \"Channel\": 149, \"RSSI\": -87, \"CurrentLatitude\": 44.67519300899817, \"CurrentLongitude\": -74.98484390449131, \"AltitudeMeters\": 51.16162109375, \"AccuracyMeters\": 6.432000160217285, \"Type\": \"WIFI\"}, {\"MAC\": \"8c:61:a3:fa:91:41\", \"SSID\": \"ARRIS-3129\", \"AuthMode\": \"[WPA2-PSK-CCMP][ESS][WPS]\", \"FirstSeen\": \"2023-01-09 17:30:36\", \"Channel\": 6, \"RSSI\": -89, \"CurrentLatitude\": 44.67519300899817, \"CurrentLongitude\": -74.98484390449131, \"AltitudeMeters\": 51.16162109375, \"AccuracyMeters\": 6.432000160217285, \"Type\": \"WIFI\"}, {\"MAC\": \"00:ac:e0:95:2f:45\", \"SSID\": \"DG1670A42-5G\", \"AuthMode\": \"[WPA2-PSK-CCMP][ESS][WPS]\", \"FirstSeen\": \"2023-01-09 17:30:36\", \"Channel\": 44, \"RSSI\": -90, \"CurrentLatitude\": 44.67519300899817, \"CurrentLongitude\": -74.98484390449131, \"AltitudeMeters\": 51.16162109375, \"AccuracyMeters\": 6.432000160217285, \"Type\": \"WIFI\"}, {\"MAC\": \"28:9e:fc:65:64:16\", \"SSID\": \"MySpectrumWiFi10-2G\", \"AuthMode\": \"[WPA2-PSK-CCMP][ESS]\", \"FirstSeen\": \"2023-01-09 17:30:36\", \"Channel\": 11, \"RSSI\": -92, \"CurrentLatitude\": 44.67519300899817, \"CurrentLongitude\": -74.98484390449131, \"AltitudeMeters\": 51.16162109375, \"AccuracyMeters\": 6.432000160217285, \"Type\": \"WIFI\"}, {\"MAC\": \"310410_3332_206856968\", \"SSID\": \"AT&T Mobility\", \"AuthMode\": \"LTE;310410\", \"FirstSeen\": \"2023-01-09 17:30:36\", \"Channel\": 1000, \"RSSI\": -107, \"CurrentLatitude\": 44.67519300899817, \"CurrentLongitude\": -74.98484390449131, \"AltitudeMeters\": 51.16162109375, \"AccuracyMeters\": 6.432000160217285, \"Type\": \"GSM\"}, {\"MAC\": \"fa:8f:ca:3e:d9:28\", \"SSID\": \"Addition TV\", \"AuthMode\": \"[ESS]\", \"FirstSeen\": \"2023-01-09 17:30:41\", \"Channel\": 6, \"RSSI\": -59, \"CurrentLatitude\": 44.67512629086133, \"CurrentLongitude\": -74.98485617807866, \"AltitudeMeters\": 62.480712890625, \"AccuracyMeters\": 4.288000106811523, \"Type\": \"WIFI\"}, {\"MAC\": \"e8:9f:80:fe:6a:87\", \"SSID\": \"Thanks Dirty\", \"AuthMode\": \"[WPA2-PSK-CCMP][ESS][WPS]\", \"FirstSeen\": \"2023-01-09 17:30:41\", \"Channel\": 5, \"RSSI\": -83, \"CurrentLatitude\": 44.67512629086133, \"CurrentLongitude\": -74.98485617807866, \"AltitudeMeters\": 62.480712890625, \"AccuracyMeters\": 4.288000106811523, \"Type\": \"WIFI\"}, {\"MAC\": \"74:e6:0f:a7:5d:21\", \"AuthMode\": \"Uncategorized;10\", \"FirstSeen\": \"2023-01-09 17:30:57\", \"Channel\": 7936, \"RSSI\": -91, \"CurrentLatitude\": 44.675069671608746, \"CurrentLongitude\": -74.98469846342036, \"AltitudeMeters\": 73.4766845703125, \"AccuracyMeters\": 4.288000106811523, \"Type\": \"BT\"}, {\"MAC\": \"7a:36:70:a8:80:da\", \"AuthMode\": \"Misc\", \"FirstSeen\": \"2023-01-09 17:31:03\", \"Channel\": 0, \"RSSI\": -97, \"CurrentLatitude\": 44.67514930346231, \"CurrentLongitude\": -74.98469895510951, \"AltitudeMeters\": 76.0965576171875, \"AccuracyMeters\": 4.288000106811523, \"Type\": \"BLE\"}]\n"
     ]
    }
   ],
   "source": [
    "# Using pathlib is more concise\n",
    "from pathlib import Path\n",
    "\n",
    "file_contents = Path('wifi_2023.json').read_text(encoding='utf-8')\n",
    "print(file_contents)"
   ]
  },
  {
   "cell_type": "markdown",
   "metadata": {},
   "source": [
    "## JSON Data\n",
    "\n",
    "- JSON Data is just a way to store dictionary-like data on file.\n",
    "- Used widely\n",
    "- Can be manipulated with the json library in Python\n",
    "- Use json.loads to convert a JSON string to a dictionary and json.dumps to convert a dictionary to a string to save to file.\n",
    "- Programs like Notepad++ work well to visualize JSON data and display their data.\n"
   ]
  },
  {
   "cell_type": "code",
   "execution_count": 407,
   "metadata": {},
   "outputs": [],
   "source": [
    "import json\n",
    "\n",
    "meta = json.loads(file_contents)"
   ]
  },
  {
   "cell_type": "code",
   "execution_count": 408,
   "metadata": {},
   "outputs": [
    {
     "data": {
      "text/plain": [
       "'77:3c:f9:3a:4f:5c'"
      ]
     },
     "execution_count": 408,
     "metadata": {},
     "output_type": "execute_result"
    }
   ],
   "source": [
    "meta[0]['MAC'] #a list of dict"
   ]
  }
 ],
 "metadata": {
  "kernelspec": {
   "display_name": "Python 3",
   "language": "python",
   "name": "python3"
  },
  "language_info": {
   "codemirror_mode": {
    "name": "ipython",
    "version": 3
   },
   "file_extension": ".py",
   "mimetype": "text/x-python",
   "name": "python",
   "nbconvert_exporter": "python",
   "pygments_lexer": "ipython3",
   "version": "3.12.3"
  }
 },
 "nbformat": 4,
 "nbformat_minor": 2
}
